{
 "cells": [
  {
   "cell_type": "code",
   "execution_count": 2,
   "outputs": [
    {
     "name": "stderr",
     "output_type": "stream",
     "text": [
      "[nltk_data] Downloading package stopwords to\n",
      "[nltk_data]     C:\\Users\\20184025\\AppData\\Roaming\\nltk_data...\n",
      "[nltk_data]   Package stopwords is already up-to-date!\n",
      "[nltk_data] Downloading package punkt to\n",
      "[nltk_data]     C:\\Users\\20184025\\AppData\\Roaming\\nltk_data...\n",
      "[nltk_data]   Package punkt is already up-to-date!\n",
      "[nltk_data] Downloading package wordnet to\n",
      "[nltk_data]     C:\\Users\\20184025\\AppData\\Roaming\\nltk_data...\n",
      "[nltk_data]   Package wordnet is already up-to-date!\n",
      "[nltk_data] Downloading package omw-1.4 to\n",
      "[nltk_data]     C:\\Users\\20184025\\AppData\\Roaming\\nltk_data...\n",
      "[nltk_data]   Package omw-1.4 is already up-to-date!\n",
      "[nltk_data] Downloading package averaged_perceptron_tagger to\n",
      "[nltk_data]     C:\\Users\\20184025\\AppData\\Roaming\\nltk_data...\n",
      "[nltk_data]   Package averaged_perceptron_tagger is already up-to-\n",
      "[nltk_data]       date!\n"
     ]
    },
    {
     "data": {
      "text/plain": "True"
     },
     "execution_count": 2,
     "metadata": {},
     "output_type": "execute_result"
    }
   ],
   "source": [
    "import re\n",
    "import string\n",
    "from collections import defaultdict, Counter\n",
    "\n",
    "import nltk as nltk\n",
    "import pandas as pd\n",
    "from nltk.corpus import wordnet\n",
    "from nltk import pos_tag, WordNetLemmatizer, SnowballStemmer\n",
    "\n",
    "nltk.download('stopwords')\n",
    "nltk.download('punkt')\n",
    "nltk.download('wordnet')\n",
    "nltk.download('omw-1.4')\n",
    "nltk.download('averaged_perceptron_tagger')"
   ],
   "metadata": {
    "collapsed": false,
    "pycharm": {
     "name": "#%%\n"
    }
   }
  },
  {
   "cell_type": "code",
   "execution_count": 3,
   "outputs": [
    {
     "data": {
      "text/plain": "   index                          Job Title               Salary Estimate  \\\n0      0              Senior Data Scientist  $111K-$181K (Glassdoor est.)   \n1      1  Data Scientist, Product Analytics  $111K-$181K (Glassdoor est.)   \n2      2               Data Science Manager  $111K-$181K (Glassdoor est.)   \n3      3                       Data Analyst  $111K-$181K (Glassdoor est.)   \n4      4             Director, Data Science  $111K-$181K (Glassdoor est.)   \n\n                                     Job Description  Rating  \\\n0  ABOUT HOPPER\\n\\nAt Hopper, we’re on a mission ...     3.5   \n1  At Noom, we use scientifically proven methods ...     4.5   \n2  Decode_M\\n\\nhttps://www.decode-m.com/\\n\\nData ...    -1.0   \n3  Sapphire Digital seeks a dynamic and driven mi...     3.4   \n4  Director, Data Science - (200537)\\nDescription...     3.4   \n\n                      Company Name       Location      Headquarters  \\\n0                      Hopper\\n3.5   New York, NY  Montreal, Canada   \n1                     Noom US\\n4.5   New York, NY      New York, NY   \n2                         Decode_M   New York, NY      New York, NY   \n3            Sapphire Digital\\n3.4  Lyndhurst, NJ     Lyndhurst, NJ   \n4  United Entertainment Group\\n3.4   New York, NY      New York, NY   \n\n                     Size  Founded  Type of ownership  \\\n0   501 to 1000 employees     2007  Company - Private   \n1  1001 to 5000 employees     2008  Company - Private   \n2       1 to 50 employees       -1            Unknown   \n3    201 to 500 employees     2019  Company - Private   \n4     51 to 200 employees     2007  Company - Private   \n\n                    Industry                  Sector  \\\n0            Travel Agencies        Travel & Tourism   \n1  Health, Beauty, & Fitness       Consumer Services   \n2                         -1                      -1   \n3                   Internet  Information Technology   \n4    Advertising & Marketing       Business Services   \n\n                    Revenue               Competitors Easy Apply  \n0  Unknown / Non-Applicable                        -1         -1  \n1  Unknown / Non-Applicable                        -1         -1  \n2  Unknown / Non-Applicable                        -1       True  \n3  Unknown / Non-Applicable      Zocdoc, Healthgrades         -1  \n4  Unknown / Non-Applicable  BBDO, Grey Group, Droga5         -1  ",
      "text/html": "<div>\n<style scoped>\n    .dataframe tbody tr th:only-of-type {\n        vertical-align: middle;\n    }\n\n    .dataframe tbody tr th {\n        vertical-align: top;\n    }\n\n    .dataframe thead th {\n        text-align: right;\n    }\n</style>\n<table border=\"1\" class=\"dataframe\">\n  <thead>\n    <tr style=\"text-align: right;\">\n      <th></th>\n      <th>index</th>\n      <th>Job Title</th>\n      <th>Salary Estimate</th>\n      <th>Job Description</th>\n      <th>Rating</th>\n      <th>Company Name</th>\n      <th>Location</th>\n      <th>Headquarters</th>\n      <th>Size</th>\n      <th>Founded</th>\n      <th>Type of ownership</th>\n      <th>Industry</th>\n      <th>Sector</th>\n      <th>Revenue</th>\n      <th>Competitors</th>\n      <th>Easy Apply</th>\n    </tr>\n  </thead>\n  <tbody>\n    <tr>\n      <th>0</th>\n      <td>0</td>\n      <td>Senior Data Scientist</td>\n      <td>$111K-$181K (Glassdoor est.)</td>\n      <td>ABOUT HOPPER\\n\\nAt Hopper, we’re on a mission ...</td>\n      <td>3.5</td>\n      <td>Hopper\\n3.5</td>\n      <td>New York, NY</td>\n      <td>Montreal, Canada</td>\n      <td>501 to 1000 employees</td>\n      <td>2007</td>\n      <td>Company - Private</td>\n      <td>Travel Agencies</td>\n      <td>Travel &amp; Tourism</td>\n      <td>Unknown / Non-Applicable</td>\n      <td>-1</td>\n      <td>-1</td>\n    </tr>\n    <tr>\n      <th>1</th>\n      <td>1</td>\n      <td>Data Scientist, Product Analytics</td>\n      <td>$111K-$181K (Glassdoor est.)</td>\n      <td>At Noom, we use scientifically proven methods ...</td>\n      <td>4.5</td>\n      <td>Noom US\\n4.5</td>\n      <td>New York, NY</td>\n      <td>New York, NY</td>\n      <td>1001 to 5000 employees</td>\n      <td>2008</td>\n      <td>Company - Private</td>\n      <td>Health, Beauty, &amp; Fitness</td>\n      <td>Consumer Services</td>\n      <td>Unknown / Non-Applicable</td>\n      <td>-1</td>\n      <td>-1</td>\n    </tr>\n    <tr>\n      <th>2</th>\n      <td>2</td>\n      <td>Data Science Manager</td>\n      <td>$111K-$181K (Glassdoor est.)</td>\n      <td>Decode_M\\n\\nhttps://www.decode-m.com/\\n\\nData ...</td>\n      <td>-1.0</td>\n      <td>Decode_M</td>\n      <td>New York, NY</td>\n      <td>New York, NY</td>\n      <td>1 to 50 employees</td>\n      <td>-1</td>\n      <td>Unknown</td>\n      <td>-1</td>\n      <td>-1</td>\n      <td>Unknown / Non-Applicable</td>\n      <td>-1</td>\n      <td>True</td>\n    </tr>\n    <tr>\n      <th>3</th>\n      <td>3</td>\n      <td>Data Analyst</td>\n      <td>$111K-$181K (Glassdoor est.)</td>\n      <td>Sapphire Digital seeks a dynamic and driven mi...</td>\n      <td>3.4</td>\n      <td>Sapphire Digital\\n3.4</td>\n      <td>Lyndhurst, NJ</td>\n      <td>Lyndhurst, NJ</td>\n      <td>201 to 500 employees</td>\n      <td>2019</td>\n      <td>Company - Private</td>\n      <td>Internet</td>\n      <td>Information Technology</td>\n      <td>Unknown / Non-Applicable</td>\n      <td>Zocdoc, Healthgrades</td>\n      <td>-1</td>\n    </tr>\n    <tr>\n      <th>4</th>\n      <td>4</td>\n      <td>Director, Data Science</td>\n      <td>$111K-$181K (Glassdoor est.)</td>\n      <td>Director, Data Science - (200537)\\nDescription...</td>\n      <td>3.4</td>\n      <td>United Entertainment Group\\n3.4</td>\n      <td>New York, NY</td>\n      <td>New York, NY</td>\n      <td>51 to 200 employees</td>\n      <td>2007</td>\n      <td>Company - Private</td>\n      <td>Advertising &amp; Marketing</td>\n      <td>Business Services</td>\n      <td>Unknown / Non-Applicable</td>\n      <td>BBDO, Grey Group, Droga5</td>\n      <td>-1</td>\n    </tr>\n  </tbody>\n</table>\n</div>"
     },
     "execution_count": 3,
     "metadata": {},
     "output_type": "execute_result"
    }
   ],
   "source": [
    "df_datascientist = pd.read_csv('../data/../data/DataScientist.csv', index_col=0)\n",
    "df_datascientist.head()"
   ],
   "metadata": {
    "collapsed": false,
    "pycharm": {
     "name": "#%%\n"
    }
   }
  },
  {
   "cell_type": "code",
   "execution_count": 14,
   "outputs": [
    {
     "name": "stdout",
     "output_type": "stream",
     "text": [
      "<class 'pandas.core.frame.DataFrame'>\n",
      "Int64Index: 3909 entries, 0 to 3908\n",
      "Data columns (total 17 columns):\n",
      " #   Column             Non-Null Count  Dtype  \n",
      "---  ------             --------------  -----  \n",
      " 0   index              3909 non-null   int64  \n",
      " 1   Job Title          3909 non-null   object \n",
      " 2   Salary Estimate    3909 non-null   object \n",
      " 3   Job Description    3909 non-null   object \n",
      " 4   Rating             3909 non-null   float64\n",
      " 5   Company Name       3909 non-null   object \n",
      " 6   Location           3909 non-null   object \n",
      " 7   Headquarters       3909 non-null   object \n",
      " 8   Size               3909 non-null   object \n",
      " 9   Founded            3909 non-null   int64  \n",
      " 10  Type of ownership  3909 non-null   object \n",
      " 11  Industry           3909 non-null   object \n",
      " 12  Sector             3909 non-null   object \n",
      " 13  Revenue            3909 non-null   object \n",
      " 14  Competitors        3909 non-null   object \n",
      " 15  Easy Apply         3909 non-null   object \n",
      " 16  new tokens         3909 non-null   object \n",
      "dtypes: float64(1), int64(2), object(14)\n",
      "memory usage: 678.7+ KB\n"
     ]
    }
   ],
   "source": [
    "df_datascientist.info()"
   ],
   "metadata": {
    "collapsed": false,
    "pycharm": {
     "name": "#%%\n"
    }
   }
  },
  {
   "cell_type": "code",
   "execution_count": 4,
   "outputs": [
    {
     "data": {
      "text/plain": "\"Decode_M\\n\\nhttps://www.decode-m.com/\\n\\nData Science Manager : Job Description\\n\\nWe’re hiring a Data Science Manager in our New York office to lead Decode_M’s Data Science team in developing new solutions for our clients and advancing the science of momentum through our proprietary product.\\n\\nThis position, based in New York City, requires an interest in managing Decode_M’s data science team, workflow and offerings. It demands excellent organizational skills, a natural curiosity, an eagerness to dive into the deep end, and a hunger to learn and grow while having a blast. Expect to learn a lot about cool companies, new products, and the latest in analytics, research and strategy.\\n\\nAbout You\\nYou have an advanced degree in data science, mathematics, or another highly quantitative field, and are comfortable understanding and utilizing recent academic research in your work.\\nYou have 3+ years of relevant work experience using applied statistics and/or machine learning. Bonus points if you’ve worked in a consulting, or other client-facing role before\\nYou have 1+ years of management experience.\\nYou are fluent in Python and R, as well as a robust numerical computing and data science stack in each language. Not only do you produce readable and well-documented code, but elevate your team’s work through thoughtful code review and mentorship\\nYou are highly consultative, engaged, and detail-oriented. You see beyond the question you are asked to understand client objectives, and chart a course for long-term success in our relationships\\nYou are an autodidact, who loves to figure out new solutions to problems by diving deep into StackOverflow, Arxiv.org, or your preferred destination.\\nYou are curious, inquisitive, proactive, organized, and methodical. You like to use substantiated data to both identify and solve problems, rather than trust your gut alone\\n\\n\\nWhat You'll Do\\n\\nLead a team. Help to set the vision for the Data Science team and follow through on that vision. Be a mentor to a small, close-knit team of data scientists, helping them to develop professionally\\n\\nDrive New Product Development: Decode_M has developed a proprietary algorithm to quantify the cultural momentum of brands, entities, people and movements. You will steward the development of the algorithm and be part of the product team to bring it to market with new customers\\n\\nManage Process. Work across teams and with Decode_M’s leadership to ensure that our work is top notch, deadlines are met, and projects are resourced appropriately. Foster an environment where the team is empowered to do its best work\\n\\nBuild Tools. Use data from social media, online reviews, mainstream media sites, search, web traffic, quantitative research, CRMs or other databases, etc. to uncover intelligence around growth opportunities and business challenges. Build software and/or repeatable processes to scale this work\\n\\nGrow our Capabilities. Advance our expertise in applying statistics and machine learning to digital trends, CRM data, and quantitative research. Know the state of the field well enough to know when to reach for best-in-class tools and when to design your own solutions\""
     },
     "execution_count": 4,
     "metadata": {},
     "output_type": "execute_result"
    }
   ],
   "source": [
    "df_datascientist['Job Description'][2]"
   ],
   "metadata": {
    "collapsed": false,
    "pycharm": {
     "name": "#%%\n"
    }
   }
  },
  {
   "cell_type": "code",
   "execution_count": 5,
   "outputs": [],
   "source": [
    "def remove_urls(text):\n",
    "    regex = r\"(?i)\\b((?:https?://|www\\d{0,3}[.]|[a-z0-9.\\-]+[.][a-z]{2,4}/)(?:[^\\s()<>]+|\\(([^\\s()<>]+|(\\([^\\s()<>]+\\)))\\))+(?:\\(([^\\s()<>]+|(\\([^\\s()<>]+\\)))\\)|[^\\s`!()\\[\\]{};:'\\\".,<>?«»“”‘’]))\"\n",
    "    return re.sub(regex, '', text)"
   ],
   "metadata": {
    "collapsed": false,
    "pycharm": {
     "name": "#%%\n"
    }
   }
  },
  {
   "cell_type": "code",
   "execution_count": 6,
   "outputs": [
    {
     "data": {
      "text/plain": "0       ABOUT HOPPER\\n\\nAt Hopper, we’re on a mission ...\n1       At Noom, we use scientifically proven methods ...\n2       Decode_M\\n\\n\\n\\nData Science Manager : Job Des...\n3       Sapphire Digital seeks a dynamic and driven mi...\n4       Director, Data Science - (200537)\\nDescription...\n                              ...                        \n3904    About Us\\n\\nTachyon Technologies is a Digital ...\n3905    Job description\\nInterpret data, analyze resul...\n3906    Job DescriptionThe Security Analytics Data Eng...\n3907    The Security Analytics Data Engineer will inte...\n3908    Help us transform patients' lives.\\nAt UCB, we...\nName: Job Description, Length: 3909, dtype: object"
     },
     "execution_count": 6,
     "metadata": {},
     "output_type": "execute_result"
    }
   ],
   "source": [
    "# remove urls\n",
    "column_to_clean = 'Job Description'\n",
    "df_datascientist[column_to_clean] = df_datascientist[column_to_clean].apply(remove_urls)\n",
    "df_datascientist[column_to_clean]"
   ],
   "metadata": {
    "collapsed": false,
    "pycharm": {
     "name": "#%%\n"
    }
   }
  },
  {
   "cell_type": "code",
   "execution_count": 7,
   "outputs": [
    {
     "data": {
      "text/plain": "0    about hopper\\n\\nat hopper, we’re on a mission ...\n1    at noom, we use scientifically proven methods ...\n2    decode_m\\n\\n\\n\\ndata science manager : job des...\n3    sapphire digital seeks a dynamic and driven mi...\n4    director, data science - (200537)\\ndescription...\nName: Job Description, dtype: object"
     },
     "execution_count": 7,
     "metadata": {},
     "output_type": "execute_result"
    }
   ],
   "source": [
    "df_datascientist[column_to_clean] = df_datascientist[column_to_clean].apply(lambda x: x.lower().strip())\n",
    "df_datascientist[column_to_clean].head()"
   ],
   "metadata": {
    "collapsed": false,
    "pycharm": {
     "name": "#%%\n"
    }
   }
  },
  {
   "cell_type": "code",
   "execution_count": 8,
   "outputs": [
    {
     "data": {
      "text/plain": "['data',\n 'science',\n 'manager',\n 'job',\n 'description',\n 'hire',\n 'data',\n 'science',\n 'manager',\n 'new',\n 'york',\n 'office',\n 'lead',\n 'data',\n 'science',\n 'team',\n 'develop',\n 'new',\n 'solution',\n 'client',\n 'advance',\n 'science',\n 'momentum',\n 'proprietary',\n 'product',\n 'position',\n 'base',\n 'new',\n 'york',\n 'city',\n 'require',\n 'interest',\n 'manage',\n 'data',\n 'science',\n 'team',\n 'workflow',\n 'offering',\n 'demand',\n 'excellent',\n 'organizational',\n 'skill',\n 'natural',\n 'curiosity',\n 'eagerness',\n 'dive',\n 'deep',\n 'end',\n 'hunger',\n 'learn',\n 'grow',\n 'blast',\n 'expect',\n 'learn',\n 'lot',\n 'cool',\n 'company',\n 'new',\n 'product',\n 'late',\n 'analytics',\n 'research',\n 'strategy',\n 'advance',\n 'degree',\n 'data',\n 'science',\n 'mathematics',\n 'another',\n 'highly',\n 'quantitative',\n 'field',\n 'comfortable',\n 'understanding',\n 'utilizing',\n 'recent',\n 'academic',\n 'research',\n 'work',\n 'year',\n 'relevant',\n 'work',\n 'experience',\n 'use',\n 'applied',\n 'statistic',\n 'machine',\n 'learn',\n 'bonus',\n 'point',\n 'work',\n 'consulting',\n 'role',\n 'year',\n 'management',\n 'experience',\n 'fluent',\n 'python',\n 'r',\n 'well',\n 'robust',\n 'numerical',\n 'compute',\n 'data',\n 'science',\n 'stack',\n 'language',\n 'produce',\n 'readable',\n 'code',\n 'elevate',\n 'team',\n 'work',\n 'thoughtful',\n 'code',\n 'review',\n 'mentorship',\n 'highly',\n 'consultative',\n 'engage',\n 'see',\n 'beyond',\n 'question',\n 'ask',\n 'understand',\n 'client',\n 'objective',\n 'chart',\n 'course',\n 'success',\n 'relationship',\n 'autodidact',\n 'love',\n 'figure',\n 'new',\n 'solution',\n 'problem',\n 'dive',\n 'deep',\n 'stackoverflow',\n 'preferred',\n 'destination',\n 'curious',\n 'inquisitive',\n 'proactive',\n 'organize',\n 'methodical',\n 'like',\n 'use',\n 'substantiate',\n 'data',\n 'identify',\n 'solve',\n 'problem',\n 'rather',\n 'trust',\n 'gut',\n 'alone',\n 'lead',\n 'team',\n 'help',\n 'set',\n 'vision',\n 'data',\n 'science',\n 'team',\n 'follow',\n 'vision',\n 'mentor',\n 'small',\n 'team',\n 'data',\n 'scientist',\n 'help',\n 'develop',\n 'professionally',\n 'drive',\n 'new',\n 'product',\n 'development',\n 'develop',\n 'proprietary',\n 'algorithm',\n 'quantify',\n 'cultural',\n 'momentum',\n 'brand',\n 'entities',\n 'people',\n 'movement',\n 'steward',\n 'development',\n 'algorithm',\n 'part',\n 'product',\n 'team',\n 'bring',\n 'market',\n 'new',\n 'customer',\n 'manage',\n 'process',\n 'work',\n 'across',\n 'team',\n 'leadership',\n 'ensure',\n 'work',\n 'top',\n 'notch',\n 'deadline',\n 'meet',\n 'project',\n 'resourced',\n 'appropriately',\n 'foster',\n 'environment',\n 'team',\n 'empower',\n 'best',\n 'work',\n 'build',\n 'tool',\n 'use',\n 'data',\n 'social',\n 'medium',\n 'online',\n 'review',\n 'mainstream',\n 'medium',\n 'sit',\n 'search',\n 'web',\n 'traffic',\n 'quantitative',\n 'research',\n 'crms',\n 'databases',\n 'etc',\n 'uncover',\n 'intelligence',\n 'around',\n 'growth',\n 'opportunity',\n 'business',\n 'challenge',\n 'build',\n 'software',\n 'repeatable',\n 'process',\n 'scale',\n 'work',\n 'grow',\n 'capability',\n 'advance',\n 'expertise',\n 'apply',\n 'statistic',\n 'machine',\n 'learn',\n 'digital',\n 'trend',\n 'crm',\n 'data',\n 'quantitative',\n 'research',\n 'know',\n 'state',\n 'field',\n 'well',\n 'enough',\n 'know',\n 'reach',\n 'tool',\n 'design',\n 'solution']"
     },
     "execution_count": 8,
     "metadata": {},
     "output_type": "execute_result"
    }
   ],
   "source": [
    "stopwords = nltk.corpus.stopwords.words('english')\n",
    "st = SnowballStemmer('english')\n",
    "word_Lemmatized = WordNetLemmatizer()\n",
    "tag_map = defaultdict(lambda: wordnet.NOUN)\n",
    "tag_map['J'] = wordnet.ADJ\n",
    "tag_map['V'] = wordnet.VERB\n",
    "tag_map['R'] = wordnet.ADV\n",
    "\n",
    "def tokenize_and_remove(text):\n",
    "    tokens = nltk.tokenize.word_tokenize(text)\n",
    "    # remove punctuation and stopwords\n",
    "    tokens = list(\n",
    "        filter(lambda token: token not in string.punctuation and token not in stopwords and token.isalpha(),\n",
    "               tokens))\n",
    "    # stemming\n",
    "    # tokens = [st.stem(token) for token in tokens]\n",
    "\n",
    "    # lemmetize the words\n",
    "    # pos_tag function below will provide the 'tag' i.e if the word is Noun(N) or Verb(V) or something else.\n",
    "    tokens = [word_Lemmatized.lemmatize(word, tag_map[tag[0]]) for word, tag in pos_tag(tokens)]\n",
    "\n",
    "    return tokens\n",
    "\n",
    "tokenize_and_remove(df_datascientist['Job Description'][2])"
   ],
   "metadata": {
    "collapsed": false,
    "pycharm": {
     "name": "#%%\n"
    }
   }
  },
  {
   "cell_type": "code",
   "execution_count": 9,
   "outputs": [
    {
     "data": {
      "text/plain": "   index                          Job Title               Salary Estimate  \\\n0      0              Senior Data Scientist  $111K-$181K (Glassdoor est.)   \n1      1  Data Scientist, Product Analytics  $111K-$181K (Glassdoor est.)   \n2      2               Data Science Manager  $111K-$181K (Glassdoor est.)   \n3      3                       Data Analyst  $111K-$181K (Glassdoor est.)   \n4      4             Director, Data Science  $111K-$181K (Glassdoor est.)   \n\n                                     Job Description  Rating  \\\n0  about hopper\\n\\nat hopper, we’re on a mission ...     3.5   \n1  at noom, we use scientifically proven methods ...     4.5   \n2  decode_m\\n\\n\\n\\ndata science manager : job des...    -1.0   \n3  sapphire digital seeks a dynamic and driven mi...     3.4   \n4  director, data science - (200537)\\ndescription...     3.4   \n\n                      Company Name       Location      Headquarters  \\\n0                      Hopper\\n3.5   New York, NY  Montreal, Canada   \n1                     Noom US\\n4.5   New York, NY      New York, NY   \n2                         Decode_M   New York, NY      New York, NY   \n3            Sapphire Digital\\n3.4  Lyndhurst, NJ     Lyndhurst, NJ   \n4  United Entertainment Group\\n3.4   New York, NY      New York, NY   \n\n                     Size  Founded  Type of ownership  \\\n0   501 to 1000 employees     2007  Company - Private   \n1  1001 to 5000 employees     2008  Company - Private   \n2       1 to 50 employees       -1            Unknown   \n3    201 to 500 employees     2019  Company - Private   \n4     51 to 200 employees     2007  Company - Private   \n\n                    Industry                  Sector  \\\n0            Travel Agencies        Travel & Tourism   \n1  Health, Beauty, & Fitness       Consumer Services   \n2                         -1                      -1   \n3                   Internet  Information Technology   \n4    Advertising & Marketing       Business Services   \n\n                    Revenue               Competitors Easy Apply  \\\n0  Unknown / Non-Applicable                        -1         -1   \n1  Unknown / Non-Applicable                        -1         -1   \n2  Unknown / Non-Applicable                        -1       True   \n3  Unknown / Non-Applicable      Zocdoc, Healthgrades         -1   \n4  Unknown / Non-Applicable  BBDO, Grey Group, Droga5         -1   \n\n                                          new tokens  \n0  [hopper, hopper, mission, make, book, travel, ...  \n1  [noom, use, scientifically, proven, method, he...  \n2  [data, science, manager, job, description, hir...  \n3  [sapphire, digital, seek, dynamic, drive, data...  \n4  [director, data, science, description, edelman...  ",
      "text/html": "<div>\n<style scoped>\n    .dataframe tbody tr th:only-of-type {\n        vertical-align: middle;\n    }\n\n    .dataframe tbody tr th {\n        vertical-align: top;\n    }\n\n    .dataframe thead th {\n        text-align: right;\n    }\n</style>\n<table border=\"1\" class=\"dataframe\">\n  <thead>\n    <tr style=\"text-align: right;\">\n      <th></th>\n      <th>index</th>\n      <th>Job Title</th>\n      <th>Salary Estimate</th>\n      <th>Job Description</th>\n      <th>Rating</th>\n      <th>Company Name</th>\n      <th>Location</th>\n      <th>Headquarters</th>\n      <th>Size</th>\n      <th>Founded</th>\n      <th>Type of ownership</th>\n      <th>Industry</th>\n      <th>Sector</th>\n      <th>Revenue</th>\n      <th>Competitors</th>\n      <th>Easy Apply</th>\n      <th>new tokens</th>\n    </tr>\n  </thead>\n  <tbody>\n    <tr>\n      <th>0</th>\n      <td>0</td>\n      <td>Senior Data Scientist</td>\n      <td>$111K-$181K (Glassdoor est.)</td>\n      <td>about hopper\\n\\nat hopper, we’re on a mission ...</td>\n      <td>3.5</td>\n      <td>Hopper\\n3.5</td>\n      <td>New York, NY</td>\n      <td>Montreal, Canada</td>\n      <td>501 to 1000 employees</td>\n      <td>2007</td>\n      <td>Company - Private</td>\n      <td>Travel Agencies</td>\n      <td>Travel &amp; Tourism</td>\n      <td>Unknown / Non-Applicable</td>\n      <td>-1</td>\n      <td>-1</td>\n      <td>[hopper, hopper, mission, make, book, travel, ...</td>\n    </tr>\n    <tr>\n      <th>1</th>\n      <td>1</td>\n      <td>Data Scientist, Product Analytics</td>\n      <td>$111K-$181K (Glassdoor est.)</td>\n      <td>at noom, we use scientifically proven methods ...</td>\n      <td>4.5</td>\n      <td>Noom US\\n4.5</td>\n      <td>New York, NY</td>\n      <td>New York, NY</td>\n      <td>1001 to 5000 employees</td>\n      <td>2008</td>\n      <td>Company - Private</td>\n      <td>Health, Beauty, &amp; Fitness</td>\n      <td>Consumer Services</td>\n      <td>Unknown / Non-Applicable</td>\n      <td>-1</td>\n      <td>-1</td>\n      <td>[noom, use, scientifically, proven, method, he...</td>\n    </tr>\n    <tr>\n      <th>2</th>\n      <td>2</td>\n      <td>Data Science Manager</td>\n      <td>$111K-$181K (Glassdoor est.)</td>\n      <td>decode_m\\n\\n\\n\\ndata science manager : job des...</td>\n      <td>-1.0</td>\n      <td>Decode_M</td>\n      <td>New York, NY</td>\n      <td>New York, NY</td>\n      <td>1 to 50 employees</td>\n      <td>-1</td>\n      <td>Unknown</td>\n      <td>-1</td>\n      <td>-1</td>\n      <td>Unknown / Non-Applicable</td>\n      <td>-1</td>\n      <td>True</td>\n      <td>[data, science, manager, job, description, hir...</td>\n    </tr>\n    <tr>\n      <th>3</th>\n      <td>3</td>\n      <td>Data Analyst</td>\n      <td>$111K-$181K (Glassdoor est.)</td>\n      <td>sapphire digital seeks a dynamic and driven mi...</td>\n      <td>3.4</td>\n      <td>Sapphire Digital\\n3.4</td>\n      <td>Lyndhurst, NJ</td>\n      <td>Lyndhurst, NJ</td>\n      <td>201 to 500 employees</td>\n      <td>2019</td>\n      <td>Company - Private</td>\n      <td>Internet</td>\n      <td>Information Technology</td>\n      <td>Unknown / Non-Applicable</td>\n      <td>Zocdoc, Healthgrades</td>\n      <td>-1</td>\n      <td>[sapphire, digital, seek, dynamic, drive, data...</td>\n    </tr>\n    <tr>\n      <th>4</th>\n      <td>4</td>\n      <td>Director, Data Science</td>\n      <td>$111K-$181K (Glassdoor est.)</td>\n      <td>director, data science - (200537)\\ndescription...</td>\n      <td>3.4</td>\n      <td>United Entertainment Group\\n3.4</td>\n      <td>New York, NY</td>\n      <td>New York, NY</td>\n      <td>51 to 200 employees</td>\n      <td>2007</td>\n      <td>Company - Private</td>\n      <td>Advertising &amp; Marketing</td>\n      <td>Business Services</td>\n      <td>Unknown / Non-Applicable</td>\n      <td>BBDO, Grey Group, Droga5</td>\n      <td>-1</td>\n      <td>[director, data, science, description, edelman...</td>\n    </tr>\n  </tbody>\n</table>\n</div>"
     },
     "execution_count": 9,
     "metadata": {},
     "output_type": "execute_result"
    }
   ],
   "source": [
    "df_datascientist['new tokens'] = df_datascientist[column_to_clean].apply(tokenize_and_remove)\n",
    "df_datascientist.head()"
   ],
   "metadata": {
    "collapsed": false,
    "pycharm": {
     "name": "#%%\n"
    }
   }
  },
  {
   "cell_type": "code",
   "execution_count": 10,
   "outputs": [],
   "source": [
    "all_tokens = []\n",
    "for _, value in df_datascientist['new tokens'].iteritems():\n",
    "    all_tokens.extend(value)\n",
    "\n",
    "count: Counter = Counter(all_tokens)"
   ],
   "metadata": {
    "collapsed": false,
    "pycharm": {
     "name": "#%%\n"
    }
   }
  },
  {
   "cell_type": "code",
   "execution_count": 11,
   "outputs": [
    {
     "data": {
      "text/plain": "[('data', 35645),\n ('experience', 21462),\n ('work', 14942),\n ('team', 10144),\n ('business', 10101),\n ('skill', 7072),\n ('year', 7013),\n ('use', 6676),\n ('include', 6473),\n ('science', 6182),\n ('development', 6003),\n ('model', 5851),\n ('analysis', 5785),\n ('develop', 5763),\n ('ability', 5628),\n ('require', 5231),\n ('technology', 5161),\n ('solution', 4973),\n ('product', 4971),\n ('design', 4965),\n ('support', 4956),\n ('system', 4860),\n ('project', 4840),\n ('knowledge', 4795),\n ('provide', 4711),\n ('process', 4670),\n ('job', 4666),\n ('analytics', 4646),\n ('learn', 4638),\n ('research', 4525),\n ('opportunity', 4322),\n ('service', 4263),\n ('strong', 4253),\n ('information', 4235),\n ('company', 4234),\n ('new', 4197),\n ('technical', 4040),\n ('management', 4030),\n ('requirement', 3997),\n ('scientist', 3835),\n ('build', 3825),\n ('tool', 3800),\n ('report', 3673),\n ('need', 3633),\n ('environment', 3560),\n ('application', 3463),\n ('engineering', 3431),\n ('customer', 3417),\n ('position', 3393),\n ('machine', 3316),\n ('degree', 3254),\n ('program', 3149),\n ('help', 3127),\n ('client', 3093),\n ('problem', 3018),\n ('sql', 2995),\n ('role', 2957),\n ('test', 2932),\n ('computer', 2852),\n ('lead', 2843),\n ('software', 2814),\n ('must', 2793),\n ('apply', 2786),\n ('status', 2771),\n ('create', 2734),\n ('make', 2644),\n ('python', 2636),\n ('employee', 2622),\n ('write', 2589),\n ('responsibility', 2572),\n ('field', 2571),\n ('complex', 2568),\n ('statistical', 2540),\n ('employment', 2491),\n ('industry', 2443),\n ('perform', 2438),\n ('candidate', 2406),\n ('communication', 2405),\n ('analytical', 2376),\n ('engineer', 2367),\n ('one', 2349),\n ('people', 2336),\n ('qualification', 2305),\n ('etc', 2294),\n ('across', 2294),\n ('u', 2285),\n ('quality', 2273),\n ('large', 2260),\n ('analyze', 2249),\n ('technique', 2229),\n ('well', 2226),\n ('time', 2214),\n ('understand', 2191),\n ('drive', 2161),\n ('insight', 2139),\n ('analyst', 2138),\n ('platform', 2138),\n ('within', 2095),\n ('related', 2089),\n ('database', 2074)]"
     },
     "execution_count": 11,
     "metadata": {},
     "output_type": "execute_result"
    }
   ],
   "source": [
    "count.most_common(100)"
   ],
   "metadata": {
    "collapsed": false,
    "pycharm": {
     "name": "#%%\n"
    }
   }
  },
  {
   "cell_type": "code",
   "execution_count": 15,
   "outputs": [
    {
     "data": {
      "text/plain": "34"
     },
     "execution_count": 15,
     "metadata": {},
     "output_type": "execute_result"
    }
   ],
   "source": [
    "count['dedicated']"
   ],
   "metadata": {
    "collapsed": false,
    "pycharm": {
     "name": "#%%\n"
    }
   }
  },
  {
   "cell_type": "code",
   "execution_count": 17,
   "outputs": [
    {
     "data": {
      "text/plain": "578"
     },
     "execution_count": 17,
     "metadata": {},
     "output_type": "execute_result"
    }
   ],
   "source": [
    "count['modeling']"
   ],
   "metadata": {
    "collapsed": false,
    "pycharm": {
     "name": "#%%\n"
    }
   }
  },
  {
   "cell_type": "code",
   "execution_count": 16,
   "outputs": [
    {
     "data": {
      "text/plain": "2636"
     },
     "execution_count": 16,
     "metadata": {},
     "output_type": "execute_result"
    }
   ],
   "source": [
    "count['python']"
   ],
   "metadata": {
    "collapsed": false,
    "pycharm": {
     "name": "#%%\n"
    }
   }
  },
  {
   "cell_type": "code",
   "execution_count": 5,
   "outputs": [],
   "source": [
    "# import string\n",
    "# list(filter(lambda x: x not in string.punctuation, text))"
   ],
   "metadata": {
    "collapsed": false,
    "pycharm": {
     "name": "#%%\n"
    }
   }
  },
  {
   "cell_type": "code",
   "execution_count": null,
   "outputs": [],
   "source": [
    "\n",
    "\n",
    "def clean_jobdescriptions(df, column_to_clean: str):\n",
    "    # 3. Remove Tweets with URLs\n",
    "    def Find_url(string):\n",
    "        # URL is defined as https:// with at least 2 chars behind this\n",
    "        regex = r\"(?i)\\b((?:https?://|www\\d{0,3}[.]|[a-z0-9.\\-]+[.][a-z]{2,4}/)(?:[^\\s()<>]+|\\(([^\\s()<>]+|(\\([^\\s()<>]+\\)))\\))+(?:\\(([^\\s()<>]+|(\\([^\\s()<>]+\\)))\\)|[^\\s`!()\\[\\]{};:'\\\".,<>?«»“”‘’]))\"\n",
    "        url = re.findall(regex, string)\n",
    "        return len(url) > 0\n",
    "\n",
    "    def Find_url_word_small(string):\n",
    "        # URL is defined as https:// with at least 2 chars behind this\n",
    "        regex = r\"url\"\n",
    "        url = re.findall(regex, string)\n",
    "        return len(url) > 0\n",
    "\n",
    "    def Find_url_word(string):\n",
    "        # URL is defined as https:// with at least 2 chars behind this\n",
    "        regex = r\"URL\"\n",
    "        url = re.findall(regex, string)\n",
    "        return len(url) > 0\n",
    "\n",
    "    df[\"URL\"] = False\n",
    "    df[\"URL\"] = df[column_to_clean].apply(lambda x: Find_url(x) or Find_url_word(x) or Find_url_word_small(x))\n",
    "    df = df[df[\"URL\"] != True]\n",
    "    print(f\"Non-URL proportion {round(len(df) * 100 / len(df), 4)} % with a total of {len(df)}\")\n",
    "\n",
    "    # 3.1 Change all the text to lower case\n",
    "    df[column_to_clean] = [entry.lower() for entry in df[column_to_clean]]\n",
    "\n",
    "    # 4. Split Tweets into words\n",
    "    df[column_to_clean] = df[column_to_clean].apply(lambda x: x.split(' '))\n",
    "\n",
    "    # 6. Remove stop words and word-stemming\n",
    "    tag_map = defaultdict(lambda: wn.NOUN)\n",
    "    tag_map['J'] = wn.ADJ\n",
    "    tag_map['V'] = wn.VERB\n",
    "    tag_map['R'] = wn.ADV\n",
    "    for index, entry in zip(df.index.tolist(), df[column_to_clean]):\n",
    "        # Declaring Empty List to store the words that follow the rules for this step\n",
    "        Final_words = []\n",
    "        # Initializing WordNetLemmatizer()\n",
    "        word_Lemmatized = WordNetLemmatizer()\n",
    "        # pos_tag function below will provide the 'tag' i.e if the word is Noun(N) or Verb(V) or something else.\n",
    "        for word, tag in pos_tag(entry):\n",
    "            # Below condition is to check for Stop words and consider only alphabets\n",
    "            if word not in stopwords.words('english') and word.isalpha():\n",
    "                word_Final = word_Lemmatized.lemmatize(word, tag_map[tag[0]])\n",
    "                Final_words.append(word_Final)\n",
    "        # The final processed set of words for each iteration will be stored in 'text_final'\n",
    "        df.loc[index, 'text_final'] = str(Final_words)\n",
    "\n",
    "    # 5. Select Tweets with least 2 words\n",
    "    # TODO: Check if step necessary because it was commented out\n",
    "    df[\"Words\"] = False\n",
    "    df[\"Words\"] = df['text_final'].apply(lambda x: True if len(x) > 1 else False)  # Threshold for length tweets\n",
    "    df = df[df[\"Words\"] == True]\n",
    "    print(f\"Long proportion {round(len(df) * 100 / len(df), 4)} % with a total of {len(df)}\")"
   ],
   "metadata": {
    "collapsed": false,
    "pycharm": {
     "name": "#%%\n"
    }
   }
  }
 ],
 "metadata": {
  "kernelspec": {
   "display_name": "Python 3",
   "language": "python",
   "name": "python3"
  },
  "language_info": {
   "codemirror_mode": {
    "name": "ipython",
    "version": 2
   },
   "file_extension": ".py",
   "mimetype": "text/x-python",
   "name": "python",
   "nbconvert_exporter": "python",
   "pygments_lexer": "ipython2",
   "version": "2.7.6"
  }
 },
 "nbformat": 4,
 "nbformat_minor": 0
}