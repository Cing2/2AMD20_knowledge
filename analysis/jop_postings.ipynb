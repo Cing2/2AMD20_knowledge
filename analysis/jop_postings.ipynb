{
 "cells": [
  {
   "cell_type": "code",
   "execution_count": 2,
   "outputs": [
    {
     "name": "stderr",
     "output_type": "stream",
     "text": [
      "[nltk_data] Downloading package stopwords to\n",
      "[nltk_data]     C:\\Users\\20184025\\AppData\\Roaming\\nltk_data...\n",
      "[nltk_data]   Package stopwords is already up-to-date!\n",
      "[nltk_data] Downloading package punkt to\n",
      "[nltk_data]     C:\\Users\\20184025\\AppData\\Roaming\\nltk_data...\n",
      "[nltk_data]   Package punkt is already up-to-date!\n",
      "[nltk_data] Downloading package wordnet to\n",
      "[nltk_data]     C:\\Users\\20184025\\AppData\\Roaming\\nltk_data...\n",
      "[nltk_data]   Package wordnet is already up-to-date!\n",
      "[nltk_data] Downloading package omw-1.4 to\n",
      "[nltk_data]     C:\\Users\\20184025\\AppData\\Roaming\\nltk_data...\n",
      "[nltk_data]   Package omw-1.4 is already up-to-date!\n",
      "[nltk_data] Downloading package averaged_perceptron_tagger to\n",
      "[nltk_data]     C:\\Users\\20184025\\AppData\\Roaming\\nltk_data...\n",
      "[nltk_data]   Package averaged_perceptron_tagger is already up-to-\n",
      "[nltk_data]       date!\n"
     ]
    },
    {
     "data": {
      "text/plain": "True"
     },
     "execution_count": 2,
     "metadata": {},
     "output_type": "execute_result"
    }
   ],
   "source": [
    "import re\n",
    "import string\n",
    "from collections import defaultdict, Counter\n",
    "\n",
    "import nltk as nltk\n",
    "import pandas as pd\n",
    "from nltk import pos_tag, WordNetLemmatizer, SnowballStemmer\n",
    "from nltk.corpus import wordnet\n",
    "\n",
    "nltk.download('stopwords')\n",
    "nltk.download('punkt')\n",
    "nltk.download('wordnet')\n",
    "nltk.download('omw-1.4')\n",
    "nltk.download('averaged_perceptron_tagger')"
   ],
   "metadata": {
    "collapsed": false,
    "pycharm": {
     "name": "#%%\n"
    }
   }
  },
  {
   "cell_type": "code",
   "execution_count": 3,
   "outputs": [
    {
     "data": {
      "text/plain": "             crawl_timestamp  \\\n0  2019-02-06 05:26:22 +0000   \n1  2019-02-06 05:33:41 +0000   \n2  2019-02-06 05:33:35 +0000   \n3  2019-02-06 05:33:42 +0000   \n4  2019-02-06 05:48:23 +0000   \n\n                                                 url  \\\n0  https://www.indeed.com/viewjob?jk=fd83355c2b23...   \n1  https://www.dice.com/jobs/detail/Data-Scientis...   \n2  https://www.dice.com/jobs/detail/Data-Scientis...   \n3  https://www.indeed.com/viewjob?jk=841edd86ead2...   \n4  https://job-openings.monster.com/senior-data-s...   \n\n                                           job_title            category  \\\n0                        Enterprise Data Scientist I  Accounting/Finance   \n1                                     Data Scientist                 NaN   \n2                                     Data Scientist                 NaN   \n3  Data Scientist, Aladdin Wealth Tech, Associate...  Accounting/Finance   \n4                              Senior Data Scientist             biotech   \n\n                           company_name            city  \\\n0               Farmers Insurance Group  Woodland Hills   \n1                        Luxoft USA Inc      Middletown   \n2  Cincinnati Bell Technology Solutions        New York   \n3                             BlackRock        New York   \n4                           CyberCoders       Charlotte   \n\n                     state country   inferred_city  inferred_state  ...  \\\n0                       CA     Usa  Woodland hills      California  ...   \n1                       NJ     Usa      Middletown      New jersey  ...   \n2                       NY     Usa        New york        New york  ...   \n3  NY 10055 (Midtown area)     Usa        New york        New york  ...   \n4                       NC     Usa       Charlotte  North carolina  ...   \n\n                                     job_description   job_type  \\\n0  Read what people are saying about working here...  Undefined   \n1  We have an immediate opening for a Sharp Data ...  Undefined   \n2  Candidates should have the following backgroun...  Full Time   \n3  Read what people are saying about working here...  Undefined   \n4  We are seeking an extraordinary Data Scientist...  Full Time   \n\n  salary_offered job_board  geo            cursor contact_email  \\\n0            NaN    indeed  usa  1549432819114777           NaN   \n1            NaN      dice  usa  1549432819122106           NaN   \n2            NaN      dice  usa  1549432819236156           NaN   \n3            NaN    indeed  usa  1549432819259473           NaN   \n4            NaN   monster  usa  1549436429015957           NaN   \n\n   contact_phone_number                           uniq_id html_job_description  \n0                   NaN  3b6c6acfcba6135a31c83bd7ea493b18                  NaN  \n1                   NaN  741727428839ae7ada852eebef29b0fe                  NaN  \n2                   NaN  cdc9ef9a1de327ccdc19cc0d07dbbb37                  NaN  \n3                   NaN  1c8541cd2c2c924f9391c7d3f526f64e                  NaN  \n4                   NaN  445652a560a5441060857853cf267470                  NaN  \n\n[5 rows x 22 columns]",
      "text/html": "<div>\n<style scoped>\n    .dataframe tbody tr th:only-of-type {\n        vertical-align: middle;\n    }\n\n    .dataframe tbody tr th {\n        vertical-align: top;\n    }\n\n    .dataframe thead th {\n        text-align: right;\n    }\n</style>\n<table border=\"1\" class=\"dataframe\">\n  <thead>\n    <tr style=\"text-align: right;\">\n      <th></th>\n      <th>crawl_timestamp</th>\n      <th>url</th>\n      <th>job_title</th>\n      <th>category</th>\n      <th>company_name</th>\n      <th>city</th>\n      <th>state</th>\n      <th>country</th>\n      <th>inferred_city</th>\n      <th>inferred_state</th>\n      <th>...</th>\n      <th>job_description</th>\n      <th>job_type</th>\n      <th>salary_offered</th>\n      <th>job_board</th>\n      <th>geo</th>\n      <th>cursor</th>\n      <th>contact_email</th>\n      <th>contact_phone_number</th>\n      <th>uniq_id</th>\n      <th>html_job_description</th>\n    </tr>\n  </thead>\n  <tbody>\n    <tr>\n      <th>0</th>\n      <td>2019-02-06 05:26:22 +0000</td>\n      <td>https://www.indeed.com/viewjob?jk=fd83355c2b23...</td>\n      <td>Enterprise Data Scientist I</td>\n      <td>Accounting/Finance</td>\n      <td>Farmers Insurance Group</td>\n      <td>Woodland Hills</td>\n      <td>CA</td>\n      <td>Usa</td>\n      <td>Woodland hills</td>\n      <td>California</td>\n      <td>...</td>\n      <td>Read what people are saying about working here...</td>\n      <td>Undefined</td>\n      <td>NaN</td>\n      <td>indeed</td>\n      <td>usa</td>\n      <td>1549432819114777</td>\n      <td>NaN</td>\n      <td>NaN</td>\n      <td>3b6c6acfcba6135a31c83bd7ea493b18</td>\n      <td>NaN</td>\n    </tr>\n    <tr>\n      <th>1</th>\n      <td>2019-02-06 05:33:41 +0000</td>\n      <td>https://www.dice.com/jobs/detail/Data-Scientis...</td>\n      <td>Data Scientist</td>\n      <td>NaN</td>\n      <td>Luxoft USA Inc</td>\n      <td>Middletown</td>\n      <td>NJ</td>\n      <td>Usa</td>\n      <td>Middletown</td>\n      <td>New jersey</td>\n      <td>...</td>\n      <td>We have an immediate opening for a Sharp Data ...</td>\n      <td>Undefined</td>\n      <td>NaN</td>\n      <td>dice</td>\n      <td>usa</td>\n      <td>1549432819122106</td>\n      <td>NaN</td>\n      <td>NaN</td>\n      <td>741727428839ae7ada852eebef29b0fe</td>\n      <td>NaN</td>\n    </tr>\n    <tr>\n      <th>2</th>\n      <td>2019-02-06 05:33:35 +0000</td>\n      <td>https://www.dice.com/jobs/detail/Data-Scientis...</td>\n      <td>Data Scientist</td>\n      <td>NaN</td>\n      <td>Cincinnati Bell Technology Solutions</td>\n      <td>New York</td>\n      <td>NY</td>\n      <td>Usa</td>\n      <td>New york</td>\n      <td>New york</td>\n      <td>...</td>\n      <td>Candidates should have the following backgroun...</td>\n      <td>Full Time</td>\n      <td>NaN</td>\n      <td>dice</td>\n      <td>usa</td>\n      <td>1549432819236156</td>\n      <td>NaN</td>\n      <td>NaN</td>\n      <td>cdc9ef9a1de327ccdc19cc0d07dbbb37</td>\n      <td>NaN</td>\n    </tr>\n    <tr>\n      <th>3</th>\n      <td>2019-02-06 05:33:42 +0000</td>\n      <td>https://www.indeed.com/viewjob?jk=841edd86ead2...</td>\n      <td>Data Scientist, Aladdin Wealth Tech, Associate...</td>\n      <td>Accounting/Finance</td>\n      <td>BlackRock</td>\n      <td>New York</td>\n      <td>NY 10055 (Midtown area)</td>\n      <td>Usa</td>\n      <td>New york</td>\n      <td>New york</td>\n      <td>...</td>\n      <td>Read what people are saying about working here...</td>\n      <td>Undefined</td>\n      <td>NaN</td>\n      <td>indeed</td>\n      <td>usa</td>\n      <td>1549432819259473</td>\n      <td>NaN</td>\n      <td>NaN</td>\n      <td>1c8541cd2c2c924f9391c7d3f526f64e</td>\n      <td>NaN</td>\n    </tr>\n    <tr>\n      <th>4</th>\n      <td>2019-02-06 05:48:23 +0000</td>\n      <td>https://job-openings.monster.com/senior-data-s...</td>\n      <td>Senior Data Scientist</td>\n      <td>biotech</td>\n      <td>CyberCoders</td>\n      <td>Charlotte</td>\n      <td>NC</td>\n      <td>Usa</td>\n      <td>Charlotte</td>\n      <td>North carolina</td>\n      <td>...</td>\n      <td>We are seeking an extraordinary Data Scientist...</td>\n      <td>Full Time</td>\n      <td>NaN</td>\n      <td>monster</td>\n      <td>usa</td>\n      <td>1549436429015957</td>\n      <td>NaN</td>\n      <td>NaN</td>\n      <td>445652a560a5441060857853cf267470</td>\n      <td>NaN</td>\n    </tr>\n  </tbody>\n</table>\n<p>5 rows × 22 columns</p>\n</div>"
     },
     "execution_count": 3,
     "metadata": {},
     "output_type": "execute_result"
    }
   ],
   "source": [
    "df_scientist_us_jobs = pd.read_csv('../data/data_scientist_united_states_job_postings_jobspikr.csv')\n",
    "df_scientist_us_jobs.head()"
   ],
   "metadata": {
    "collapsed": false,
    "pycharm": {
     "name": "#%%\n"
    }
   }
  },
  {
   "cell_type": "code",
   "execution_count": 4,
   "outputs": [
    {
     "data": {
      "text/plain": "   index                          Job Title               Salary Estimate  \\\n0      0              Senior Data Scientist  $111K-$181K (Glassdoor est.)   \n1      1  Data Scientist, Product Analytics  $111K-$181K (Glassdoor est.)   \n2      2               Data Science Manager  $111K-$181K (Glassdoor est.)   \n3      3                       Data Analyst  $111K-$181K (Glassdoor est.)   \n4      4             Director, Data Science  $111K-$181K (Glassdoor est.)   \n\n                                     Job Description  Rating  \\\n0  ABOUT HOPPER\\n\\nAt Hopper, we’re on a mission ...     3.5   \n1  At Noom, we use scientifically proven methods ...     4.5   \n2  Decode_M\\n\\nhttps://www.decode-m.com/\\n\\nData ...    -1.0   \n3  Sapphire Digital seeks a dynamic and driven mi...     3.4   \n4  Director, Data Science - (200537)\\nDescription...     3.4   \n\n                      Company Name       Location      Headquarters  \\\n0                      Hopper\\n3.5   New York, NY  Montreal, Canada   \n1                     Noom US\\n4.5   New York, NY      New York, NY   \n2                         Decode_M   New York, NY      New York, NY   \n3            Sapphire Digital\\n3.4  Lyndhurst, NJ     Lyndhurst, NJ   \n4  United Entertainment Group\\n3.4   New York, NY      New York, NY   \n\n                     Size  Founded  Type of ownership  \\\n0   501 to 1000 employees     2007  Company - Private   \n1  1001 to 5000 employees     2008  Company - Private   \n2       1 to 50 employees       -1            Unknown   \n3    201 to 500 employees     2019  Company - Private   \n4     51 to 200 employees     2007  Company - Private   \n\n                    Industry                  Sector  \\\n0            Travel Agencies        Travel & Tourism   \n1  Health, Beauty, & Fitness       Consumer Services   \n2                         -1                      -1   \n3                   Internet  Information Technology   \n4    Advertising & Marketing       Business Services   \n\n                    Revenue               Competitors Easy Apply  \n0  Unknown / Non-Applicable                        -1         -1  \n1  Unknown / Non-Applicable                        -1         -1  \n2  Unknown / Non-Applicable                        -1       True  \n3  Unknown / Non-Applicable      Zocdoc, Healthgrades         -1  \n4  Unknown / Non-Applicable  BBDO, Grey Group, Droga5         -1  ",
      "text/html": "<div>\n<style scoped>\n    .dataframe tbody tr th:only-of-type {\n        vertical-align: middle;\n    }\n\n    .dataframe tbody tr th {\n        vertical-align: top;\n    }\n\n    .dataframe thead th {\n        text-align: right;\n    }\n</style>\n<table border=\"1\" class=\"dataframe\">\n  <thead>\n    <tr style=\"text-align: right;\">\n      <th></th>\n      <th>index</th>\n      <th>Job Title</th>\n      <th>Salary Estimate</th>\n      <th>Job Description</th>\n      <th>Rating</th>\n      <th>Company Name</th>\n      <th>Location</th>\n      <th>Headquarters</th>\n      <th>Size</th>\n      <th>Founded</th>\n      <th>Type of ownership</th>\n      <th>Industry</th>\n      <th>Sector</th>\n      <th>Revenue</th>\n      <th>Competitors</th>\n      <th>Easy Apply</th>\n    </tr>\n  </thead>\n  <tbody>\n    <tr>\n      <th>0</th>\n      <td>0</td>\n      <td>Senior Data Scientist</td>\n      <td>$111K-$181K (Glassdoor est.)</td>\n      <td>ABOUT HOPPER\\n\\nAt Hopper, we’re on a mission ...</td>\n      <td>3.5</td>\n      <td>Hopper\\n3.5</td>\n      <td>New York, NY</td>\n      <td>Montreal, Canada</td>\n      <td>501 to 1000 employees</td>\n      <td>2007</td>\n      <td>Company - Private</td>\n      <td>Travel Agencies</td>\n      <td>Travel &amp; Tourism</td>\n      <td>Unknown / Non-Applicable</td>\n      <td>-1</td>\n      <td>-1</td>\n    </tr>\n    <tr>\n      <th>1</th>\n      <td>1</td>\n      <td>Data Scientist, Product Analytics</td>\n      <td>$111K-$181K (Glassdoor est.)</td>\n      <td>At Noom, we use scientifically proven methods ...</td>\n      <td>4.5</td>\n      <td>Noom US\\n4.5</td>\n      <td>New York, NY</td>\n      <td>New York, NY</td>\n      <td>1001 to 5000 employees</td>\n      <td>2008</td>\n      <td>Company - Private</td>\n      <td>Health, Beauty, &amp; Fitness</td>\n      <td>Consumer Services</td>\n      <td>Unknown / Non-Applicable</td>\n      <td>-1</td>\n      <td>-1</td>\n    </tr>\n    <tr>\n      <th>2</th>\n      <td>2</td>\n      <td>Data Science Manager</td>\n      <td>$111K-$181K (Glassdoor est.)</td>\n      <td>Decode_M\\n\\nhttps://www.decode-m.com/\\n\\nData ...</td>\n      <td>-1.0</td>\n      <td>Decode_M</td>\n      <td>New York, NY</td>\n      <td>New York, NY</td>\n      <td>1 to 50 employees</td>\n      <td>-1</td>\n      <td>Unknown</td>\n      <td>-1</td>\n      <td>-1</td>\n      <td>Unknown / Non-Applicable</td>\n      <td>-1</td>\n      <td>True</td>\n    </tr>\n    <tr>\n      <th>3</th>\n      <td>3</td>\n      <td>Data Analyst</td>\n      <td>$111K-$181K (Glassdoor est.)</td>\n      <td>Sapphire Digital seeks a dynamic and driven mi...</td>\n      <td>3.4</td>\n      <td>Sapphire Digital\\n3.4</td>\n      <td>Lyndhurst, NJ</td>\n      <td>Lyndhurst, NJ</td>\n      <td>201 to 500 employees</td>\n      <td>2019</td>\n      <td>Company - Private</td>\n      <td>Internet</td>\n      <td>Information Technology</td>\n      <td>Unknown / Non-Applicable</td>\n      <td>Zocdoc, Healthgrades</td>\n      <td>-1</td>\n    </tr>\n    <tr>\n      <th>4</th>\n      <td>4</td>\n      <td>Director, Data Science</td>\n      <td>$111K-$181K (Glassdoor est.)</td>\n      <td>Director, Data Science - (200537)\\nDescription...</td>\n      <td>3.4</td>\n      <td>United Entertainment Group\\n3.4</td>\n      <td>New York, NY</td>\n      <td>New York, NY</td>\n      <td>51 to 200 employees</td>\n      <td>2007</td>\n      <td>Company - Private</td>\n      <td>Advertising &amp; Marketing</td>\n      <td>Business Services</td>\n      <td>Unknown / Non-Applicable</td>\n      <td>BBDO, Grey Group, Droga5</td>\n      <td>-1</td>\n    </tr>\n  </tbody>\n</table>\n</div>"
     },
     "execution_count": 4,
     "metadata": {},
     "output_type": "execute_result"
    }
   ],
   "source": [
    "df_datascientist = pd.read_csv('../data/../data/DataScientist.csv', index_col=0)\n",
    "df_datascientist.head()"
   ],
   "metadata": {
    "collapsed": false,
    "pycharm": {
     "name": "#%%\n"
    }
   }
  },
  {
   "cell_type": "code",
   "execution_count": 5,
   "outputs": [
    {
     "name": "stdout",
     "output_type": "stream",
     "text": [
      "<class 'pandas.core.frame.DataFrame'>\n",
      "Int64Index: 3909 entries, 0 to 3908\n",
      "Data columns (total 16 columns):\n",
      " #   Column             Non-Null Count  Dtype  \n",
      "---  ------             --------------  -----  \n",
      " 0   index              3909 non-null   int64  \n",
      " 1   Job Title          3909 non-null   object \n",
      " 2   Salary Estimate    3909 non-null   object \n",
      " 3   Job Description    3909 non-null   object \n",
      " 4   Rating             3909 non-null   float64\n",
      " 5   Company Name       3909 non-null   object \n",
      " 6   Location           3909 non-null   object \n",
      " 7   Headquarters       3909 non-null   object \n",
      " 8   Size               3909 non-null   object \n",
      " 9   Founded            3909 non-null   int64  \n",
      " 10  Type of ownership  3909 non-null   object \n",
      " 11  Industry           3909 non-null   object \n",
      " 12  Sector             3909 non-null   object \n",
      " 13  Revenue            3909 non-null   object \n",
      " 14  Competitors        3909 non-null   object \n",
      " 15  Easy Apply         3909 non-null   object \n",
      "dtypes: float64(1), int64(2), object(13)\n",
      "memory usage: 519.2+ KB\n"
     ]
    }
   ],
   "source": [
    "df_datascientist.info()"
   ],
   "metadata": {
    "collapsed": false,
    "pycharm": {
     "name": "#%%\n"
    }
   }
  },
  {
   "cell_type": "code",
   "execution_count": 6,
   "outputs": [
    {
     "data": {
      "text/plain": "\"Decode_M\\n\\nhttps://www.decode-m.com/\\n\\nData Science Manager : Job Description\\n\\nWe’re hiring a Data Science Manager in our New York office to lead Decode_M’s Data Science team in developing new solutions for our clients and advancing the science of momentum through our proprietary product.\\n\\nThis position, based in New York City, requires an interest in managing Decode_M’s data science team, workflow and offerings. It demands excellent organizational skills, a natural curiosity, an eagerness to dive into the deep end, and a hunger to learn and grow while having a blast. Expect to learn a lot about cool companies, new products, and the latest in analytics, research and strategy.\\n\\nAbout You\\nYou have an advanced degree in data science, mathematics, or another highly quantitative field, and are comfortable understanding and utilizing recent academic research in your work.\\nYou have 3+ years of relevant work experience using applied statistics and/or machine learning. Bonus points if you’ve worked in a consulting, or other client-facing role before\\nYou have 1+ years of management experience.\\nYou are fluent in Python and R, as well as a robust numerical computing and data science stack in each language. Not only do you produce readable and well-documented code, but elevate your team’s work through thoughtful code review and mentorship\\nYou are highly consultative, engaged, and detail-oriented. You see beyond the question you are asked to understand client objectives, and chart a course for long-term success in our relationships\\nYou are an autodidact, who loves to figure out new solutions to problems by diving deep into StackOverflow, Arxiv.org, or your preferred destination.\\nYou are curious, inquisitive, proactive, organized, and methodical. You like to use substantiated data to both identify and solve problems, rather than trust your gut alone\\n\\n\\nWhat You'll Do\\n\\nLead a team. Help to set the vision for the Data Science team and follow through on that vision. Be a mentor to a small, close-knit team of data scientists, helping them to develop professionally\\n\\nDrive New Product Development: Decode_M has developed a proprietary algorithm to quantify the cultural momentum of brands, entities, people and movements. You will steward the development of the algorithm and be part of the product team to bring it to market with new customers\\n\\nManage Process. Work across teams and with Decode_M’s leadership to ensure that our work is top notch, deadlines are met, and projects are resourced appropriately. Foster an environment where the team is empowered to do its best work\\n\\nBuild Tools. Use data from social media, online reviews, mainstream media sites, search, web traffic, quantitative research, CRMs or other databases, etc. to uncover intelligence around growth opportunities and business challenges. Build software and/or repeatable processes to scale this work\\n\\nGrow our Capabilities. Advance our expertise in applying statistics and machine learning to digital trends, CRM data, and quantitative research. Know the state of the field well enough to know when to reach for best-in-class tools and when to design your own solutions\""
     },
     "execution_count": 6,
     "metadata": {},
     "output_type": "execute_result"
    }
   ],
   "source": [
    "df_datascientist['Job Description'][2]"
   ],
   "metadata": {
    "collapsed": false,
    "pycharm": {
     "name": "#%%\n"
    }
   }
  },
  {
   "cell_type": "code",
   "execution_count": 7,
   "outputs": [],
   "source": [
    "def remove_urls(text):\n",
    "    regex = r\"(?i)\\b((?:https?://|www\\d{0,3}[.]|[a-z0-9.\\-]+[.][a-z]{2,4}/)(?:[^\\s()<>]+|\\(([^\\s()<>]+|(\\([^\\s()<>]+\\)))\\))+(?:\\(([^\\s()<>]+|(\\([^\\s()<>]+\\)))\\)|[^\\s`!()\\[\\]{};:'\\\".,<>?«»“”‘’]))\"\n",
    "    return re.sub(regex, '', text)"
   ],
   "metadata": {
    "collapsed": false,
    "pycharm": {
     "name": "#%%\n"
    }
   }
  },
  {
   "cell_type": "code",
   "execution_count": 8,
   "outputs": [
    {
     "data": {
      "text/plain": "0       ABOUT HOPPER\\n\\nAt Hopper, we’re on a mission ...\n1       At Noom, we use scientifically proven methods ...\n2       Decode_M\\n\\n\\n\\nData Science Manager : Job Des...\n3       Sapphire Digital seeks a dynamic and driven mi...\n4       Director, Data Science - (200537)\\nDescription...\n                              ...                        \n3904    About Us\\n\\nTachyon Technologies is a Digital ...\n3905    Job description\\nInterpret data, analyze resul...\n3906    Job DescriptionThe Security Analytics Data Eng...\n3907    The Security Analytics Data Engineer will inte...\n3908    Help us transform patients' lives.\\nAt UCB, we...\nName: Job Description, Length: 3909, dtype: object"
     },
     "execution_count": 8,
     "metadata": {},
     "output_type": "execute_result"
    }
   ],
   "source": [
    "# remove urls\n",
    "column_to_clean = 'Job Description'\n",
    "df_datascientist[column_to_clean] = df_datascientist[column_to_clean].apply(remove_urls)\n",
    "df_datascientist[column_to_clean]"
   ],
   "metadata": {
    "collapsed": false,
    "pycharm": {
     "name": "#%%\n"
    }
   }
  },
  {
   "cell_type": "code",
   "execution_count": 9,
   "outputs": [
    {
     "data": {
      "text/plain": "0    about hopper\\n\\nat hopper, we’re on a mission ...\n1    at noom, we use scientifically proven methods ...\n2    decode_m\\n\\n\\n\\ndata science manager : job des...\n3    sapphire digital seeks a dynamic and driven mi...\n4    director, data science - (200537)\\ndescription...\nName: Job Description, dtype: object"
     },
     "execution_count": 9,
     "metadata": {},
     "output_type": "execute_result"
    }
   ],
   "source": [
    "df_datascientist[column_to_clean] = df_datascientist[column_to_clean].apply(lambda x: x.lower().strip())\n",
    "df_datascientist[column_to_clean].head()"
   ],
   "metadata": {
    "collapsed": false,
    "pycharm": {
     "name": "#%%\n"
    }
   }
  },
  {
   "cell_type": "code",
   "execution_count": 10,
   "outputs": [
    {
     "data": {
      "text/plain": "['data',\n 'science',\n 'manager',\n 'job',\n 'description',\n 'hire',\n 'data',\n 'science',\n 'manager',\n 'new',\n 'york',\n 'office',\n 'lead',\n 'data',\n 'science',\n 'team',\n 'develop',\n 'new',\n 'solution',\n 'client',\n 'advance',\n 'science',\n 'momentum',\n 'proprietary',\n 'product',\n 'position',\n 'base',\n 'new',\n 'york',\n 'city',\n 'require',\n 'interest',\n 'manage',\n 'data',\n 'science',\n 'team',\n 'workflow',\n 'offering',\n 'demand',\n 'excellent',\n 'organizational',\n 'skill',\n 'natural',\n 'curiosity',\n 'eagerness',\n 'dive',\n 'deep',\n 'end',\n 'hunger',\n 'learn',\n 'grow',\n 'blast',\n 'expect',\n 'learn',\n 'lot',\n 'cool',\n 'company',\n 'new',\n 'product',\n 'late',\n 'analytics',\n 'research',\n 'strategy',\n 'advance',\n 'degree',\n 'data',\n 'science',\n 'mathematics',\n 'another',\n 'highly',\n 'quantitative',\n 'field',\n 'comfortable',\n 'understanding',\n 'utilizing',\n 'recent',\n 'academic',\n 'research',\n 'work',\n 'year',\n 'relevant',\n 'work',\n 'experience',\n 'use',\n 'applied',\n 'statistic',\n 'machine',\n 'learn',\n 'bonus',\n 'point',\n 'work',\n 'consulting',\n 'role',\n 'year',\n 'management',\n 'experience',\n 'fluent',\n 'python',\n 'r',\n 'well',\n 'robust',\n 'numerical',\n 'compute',\n 'data',\n 'science',\n 'stack',\n 'language',\n 'produce',\n 'readable',\n 'code',\n 'elevate',\n 'team',\n 'work',\n 'thoughtful',\n 'code',\n 'review',\n 'mentorship',\n 'highly',\n 'consultative',\n 'engage',\n 'see',\n 'beyond',\n 'question',\n 'ask',\n 'understand',\n 'client',\n 'objective',\n 'chart',\n 'course',\n 'success',\n 'relationship',\n 'autodidact',\n 'love',\n 'figure',\n 'new',\n 'solution',\n 'problem',\n 'dive',\n 'deep',\n 'stackoverflow',\n 'preferred',\n 'destination',\n 'curious',\n 'inquisitive',\n 'proactive',\n 'organize',\n 'methodical',\n 'like',\n 'use',\n 'substantiate',\n 'data',\n 'identify',\n 'solve',\n 'problem',\n 'rather',\n 'trust',\n 'gut',\n 'alone',\n 'lead',\n 'team',\n 'help',\n 'set',\n 'vision',\n 'data',\n 'science',\n 'team',\n 'follow',\n 'vision',\n 'mentor',\n 'small',\n 'team',\n 'data',\n 'scientist',\n 'help',\n 'develop',\n 'professionally',\n 'drive',\n 'new',\n 'product',\n 'development',\n 'develop',\n 'proprietary',\n 'algorithm',\n 'quantify',\n 'cultural',\n 'momentum',\n 'brand',\n 'entities',\n 'people',\n 'movement',\n 'steward',\n 'development',\n 'algorithm',\n 'part',\n 'product',\n 'team',\n 'bring',\n 'market',\n 'new',\n 'customer',\n 'manage',\n 'process',\n 'work',\n 'across',\n 'team',\n 'leadership',\n 'ensure',\n 'work',\n 'top',\n 'notch',\n 'deadline',\n 'meet',\n 'project',\n 'resourced',\n 'appropriately',\n 'foster',\n 'environment',\n 'team',\n 'empower',\n 'best',\n 'work',\n 'build',\n 'tool',\n 'use',\n 'data',\n 'social',\n 'medium',\n 'online',\n 'review',\n 'mainstream',\n 'medium',\n 'sit',\n 'search',\n 'web',\n 'traffic',\n 'quantitative',\n 'research',\n 'crms',\n 'databases',\n 'etc',\n 'uncover',\n 'intelligence',\n 'around',\n 'growth',\n 'opportunity',\n 'business',\n 'challenge',\n 'build',\n 'software',\n 'repeatable',\n 'process',\n 'scale',\n 'work',\n 'grow',\n 'capability',\n 'advance',\n 'expertise',\n 'apply',\n 'statistic',\n 'machine',\n 'learn',\n 'digital',\n 'trend',\n 'crm',\n 'data',\n 'quantitative',\n 'research',\n 'know',\n 'state',\n 'field',\n 'well',\n 'enough',\n 'know',\n 'reach',\n 'tool',\n 'design',\n 'solution']"
     },
     "execution_count": 10,
     "metadata": {},
     "output_type": "execute_result"
    }
   ],
   "source": [
    "stopwords = nltk.corpus.stopwords.words('english')\n",
    "st = SnowballStemmer('english')\n",
    "word_Lemmatized = WordNetLemmatizer()\n",
    "tag_map = defaultdict(lambda: wordnet.NOUN)\n",
    "tag_map['J'] = wordnet.ADJ\n",
    "tag_map['V'] = wordnet.VERB\n",
    "tag_map['R'] = wordnet.ADV\n",
    "\n",
    "\n",
    "def lemmatize(words):\n",
    "    tag_map = defaultdict(lambda: wordnet.NOUN)\n",
    "    tag_map['J'] = wordnet.ADJ\n",
    "    tag_map['V'] = wordnet.VERB\n",
    "    tag_map['R'] = wordnet.ADV\n",
    "\n",
    "    words = [word_Lemmatized.lemmatize(word, tag_map[tag[0]]) for word, tag in pos_tag(words)]\n",
    "\n",
    "    return words\n",
    "\n",
    "\n",
    "def tokenize_and_remove(text):\n",
    "    tokens = nltk.tokenize.word_tokenize(text)\n",
    "    # remove punctuation and stopwords\n",
    "    tokens = list(\n",
    "        filter(lambda token: token not in string.punctuation and token not in stopwords and token.isalpha(),\n",
    "               tokens))\n",
    "    # stemming\n",
    "    # tokens = [st.stem(token) for token in tokens]\n",
    "\n",
    "    # lemmatize the words\n",
    "    # pos_tag function below will provide the 'tag' i.e if the word is Noun(N) or Verb(V) or something else.\n",
    "    tokens = lemmatize(tokens)\n",
    "\n",
    "    return tokens\n",
    "\n",
    "\n",
    "tokenize_and_remove(df_datascientist['Job Description'][2])"
   ],
   "metadata": {
    "collapsed": false,
    "pycharm": {
     "name": "#%%\n"
    }
   }
  },
  {
   "cell_type": "code",
   "execution_count": 11,
   "outputs": [
    {
     "data": {
      "text/plain": "   index                          Job Title               Salary Estimate  \\\n0      0              Senior Data Scientist  $111K-$181K (Glassdoor est.)   \n1      1  Data Scientist, Product Analytics  $111K-$181K (Glassdoor est.)   \n2      2               Data Science Manager  $111K-$181K (Glassdoor est.)   \n3      3                       Data Analyst  $111K-$181K (Glassdoor est.)   \n4      4             Director, Data Science  $111K-$181K (Glassdoor est.)   \n\n                                     Job Description  Rating  \\\n0  about hopper\\n\\nat hopper, we’re on a mission ...     3.5   \n1  at noom, we use scientifically proven methods ...     4.5   \n2  decode_m\\n\\n\\n\\ndata science manager : job des...    -1.0   \n3  sapphire digital seeks a dynamic and driven mi...     3.4   \n4  director, data science - (200537)\\ndescription...     3.4   \n\n                      Company Name       Location      Headquarters  \\\n0                      Hopper\\n3.5   New York, NY  Montreal, Canada   \n1                     Noom US\\n4.5   New York, NY      New York, NY   \n2                         Decode_M   New York, NY      New York, NY   \n3            Sapphire Digital\\n3.4  Lyndhurst, NJ     Lyndhurst, NJ   \n4  United Entertainment Group\\n3.4   New York, NY      New York, NY   \n\n                     Size  Founded  Type of ownership  \\\n0   501 to 1000 employees     2007  Company - Private   \n1  1001 to 5000 employees     2008  Company - Private   \n2       1 to 50 employees       -1            Unknown   \n3    201 to 500 employees     2019  Company - Private   \n4     51 to 200 employees     2007  Company - Private   \n\n                    Industry                  Sector  \\\n0            Travel Agencies        Travel & Tourism   \n1  Health, Beauty, & Fitness       Consumer Services   \n2                         -1                      -1   \n3                   Internet  Information Technology   \n4    Advertising & Marketing       Business Services   \n\n                    Revenue               Competitors Easy Apply  \\\n0  Unknown / Non-Applicable                        -1         -1   \n1  Unknown / Non-Applicable                        -1         -1   \n2  Unknown / Non-Applicable                        -1       True   \n3  Unknown / Non-Applicable      Zocdoc, Healthgrades         -1   \n4  Unknown / Non-Applicable  BBDO, Grey Group, Droga5         -1   \n\n                                          new tokens  \n0  [hopper, hopper, mission, make, book, travel, ...  \n1  [noom, use, scientifically, proven, method, he...  \n2  [data, science, manager, job, description, hir...  \n3  [sapphire, digital, seek, dynamic, drive, data...  \n4  [director, data, science, description, edelman...  ",
      "text/html": "<div>\n<style scoped>\n    .dataframe tbody tr th:only-of-type {\n        vertical-align: middle;\n    }\n\n    .dataframe tbody tr th {\n        vertical-align: top;\n    }\n\n    .dataframe thead th {\n        text-align: right;\n    }\n</style>\n<table border=\"1\" class=\"dataframe\">\n  <thead>\n    <tr style=\"text-align: right;\">\n      <th></th>\n      <th>index</th>\n      <th>Job Title</th>\n      <th>Salary Estimate</th>\n      <th>Job Description</th>\n      <th>Rating</th>\n      <th>Company Name</th>\n      <th>Location</th>\n      <th>Headquarters</th>\n      <th>Size</th>\n      <th>Founded</th>\n      <th>Type of ownership</th>\n      <th>Industry</th>\n      <th>Sector</th>\n      <th>Revenue</th>\n      <th>Competitors</th>\n      <th>Easy Apply</th>\n      <th>new tokens</th>\n    </tr>\n  </thead>\n  <tbody>\n    <tr>\n      <th>0</th>\n      <td>0</td>\n      <td>Senior Data Scientist</td>\n      <td>$111K-$181K (Glassdoor est.)</td>\n      <td>about hopper\\n\\nat hopper, we’re on a mission ...</td>\n      <td>3.5</td>\n      <td>Hopper\\n3.5</td>\n      <td>New York, NY</td>\n      <td>Montreal, Canada</td>\n      <td>501 to 1000 employees</td>\n      <td>2007</td>\n      <td>Company - Private</td>\n      <td>Travel Agencies</td>\n      <td>Travel &amp; Tourism</td>\n      <td>Unknown / Non-Applicable</td>\n      <td>-1</td>\n      <td>-1</td>\n      <td>[hopper, hopper, mission, make, book, travel, ...</td>\n    </tr>\n    <tr>\n      <th>1</th>\n      <td>1</td>\n      <td>Data Scientist, Product Analytics</td>\n      <td>$111K-$181K (Glassdoor est.)</td>\n      <td>at noom, we use scientifically proven methods ...</td>\n      <td>4.5</td>\n      <td>Noom US\\n4.5</td>\n      <td>New York, NY</td>\n      <td>New York, NY</td>\n      <td>1001 to 5000 employees</td>\n      <td>2008</td>\n      <td>Company - Private</td>\n      <td>Health, Beauty, &amp; Fitness</td>\n      <td>Consumer Services</td>\n      <td>Unknown / Non-Applicable</td>\n      <td>-1</td>\n      <td>-1</td>\n      <td>[noom, use, scientifically, proven, method, he...</td>\n    </tr>\n    <tr>\n      <th>2</th>\n      <td>2</td>\n      <td>Data Science Manager</td>\n      <td>$111K-$181K (Glassdoor est.)</td>\n      <td>decode_m\\n\\n\\n\\ndata science manager : job des...</td>\n      <td>-1.0</td>\n      <td>Decode_M</td>\n      <td>New York, NY</td>\n      <td>New York, NY</td>\n      <td>1 to 50 employees</td>\n      <td>-1</td>\n      <td>Unknown</td>\n      <td>-1</td>\n      <td>-1</td>\n      <td>Unknown / Non-Applicable</td>\n      <td>-1</td>\n      <td>True</td>\n      <td>[data, science, manager, job, description, hir...</td>\n    </tr>\n    <tr>\n      <th>3</th>\n      <td>3</td>\n      <td>Data Analyst</td>\n      <td>$111K-$181K (Glassdoor est.)</td>\n      <td>sapphire digital seeks a dynamic and driven mi...</td>\n      <td>3.4</td>\n      <td>Sapphire Digital\\n3.4</td>\n      <td>Lyndhurst, NJ</td>\n      <td>Lyndhurst, NJ</td>\n      <td>201 to 500 employees</td>\n      <td>2019</td>\n      <td>Company - Private</td>\n      <td>Internet</td>\n      <td>Information Technology</td>\n      <td>Unknown / Non-Applicable</td>\n      <td>Zocdoc, Healthgrades</td>\n      <td>-1</td>\n      <td>[sapphire, digital, seek, dynamic, drive, data...</td>\n    </tr>\n    <tr>\n      <th>4</th>\n      <td>4</td>\n      <td>Director, Data Science</td>\n      <td>$111K-$181K (Glassdoor est.)</td>\n      <td>director, data science - (200537)\\ndescription...</td>\n      <td>3.4</td>\n      <td>United Entertainment Group\\n3.4</td>\n      <td>New York, NY</td>\n      <td>New York, NY</td>\n      <td>51 to 200 employees</td>\n      <td>2007</td>\n      <td>Company - Private</td>\n      <td>Advertising &amp; Marketing</td>\n      <td>Business Services</td>\n      <td>Unknown / Non-Applicable</td>\n      <td>BBDO, Grey Group, Droga5</td>\n      <td>-1</td>\n      <td>[director, data, science, description, edelman...</td>\n    </tr>\n  </tbody>\n</table>\n</div>"
     },
     "execution_count": 11,
     "metadata": {},
     "output_type": "execute_result"
    }
   ],
   "source": [
    "df_datascientist['new tokens'] = df_datascientist[column_to_clean].apply(tokenize_and_remove)\n",
    "df_datascientist.head()"
   ],
   "metadata": {
    "collapsed": false,
    "pycharm": {
     "name": "#%%\n"
    }
   }
  },
  {
   "cell_type": "code",
   "execution_count": 12,
   "outputs": [],
   "source": [
    "all_tokens = []\n",
    "for _, value in df_datascientist['new tokens'].iteritems():\n",
    "    all_tokens.extend(value)\n",
    "\n",
    "word_count_job1: Counter = Counter(all_tokens)"
   ],
   "metadata": {
    "collapsed": false,
    "pycharm": {
     "name": "#%%\n"
    }
   }
  },
  {
   "cell_type": "code",
   "execution_count": 13,
   "outputs": [
    {
     "data": {
      "text/plain": "[('data', 35645),\n ('experience', 21462),\n ('work', 14942),\n ('team', 10144),\n ('business', 10101),\n ('skill', 7072),\n ('year', 7013),\n ('use', 6676),\n ('include', 6473),\n ('science', 6182),\n ('development', 6003),\n ('model', 5851),\n ('analysis', 5785),\n ('develop', 5763),\n ('ability', 5628),\n ('require', 5231),\n ('technology', 5161),\n ('solution', 4973),\n ('product', 4971),\n ('design', 4965),\n ('support', 4956),\n ('system', 4860),\n ('project', 4840),\n ('knowledge', 4795),\n ('provide', 4711),\n ('process', 4670),\n ('job', 4666),\n ('analytics', 4646),\n ('learn', 4638),\n ('research', 4525),\n ('opportunity', 4322),\n ('service', 4263),\n ('strong', 4253),\n ('information', 4235),\n ('company', 4234),\n ('new', 4197),\n ('technical', 4040),\n ('management', 4030),\n ('requirement', 3997),\n ('scientist', 3835),\n ('build', 3825),\n ('tool', 3800),\n ('report', 3673),\n ('need', 3633),\n ('environment', 3560),\n ('application', 3463),\n ('engineering', 3431),\n ('customer', 3417),\n ('position', 3393),\n ('machine', 3316),\n ('degree', 3254),\n ('program', 3149),\n ('help', 3127),\n ('client', 3093),\n ('problem', 3018),\n ('sql', 2995),\n ('role', 2957),\n ('test', 2932),\n ('computer', 2852),\n ('lead', 2843),\n ('software', 2814),\n ('must', 2793),\n ('apply', 2786),\n ('status', 2771),\n ('create', 2734),\n ('make', 2644),\n ('python', 2636),\n ('employee', 2622),\n ('write', 2589),\n ('responsibility', 2572),\n ('field', 2571),\n ('complex', 2568),\n ('statistical', 2540),\n ('employment', 2491),\n ('industry', 2443),\n ('perform', 2438),\n ('candidate', 2406),\n ('communication', 2405),\n ('analytical', 2376),\n ('engineer', 2367),\n ('one', 2349),\n ('people', 2336),\n ('qualification', 2305),\n ('etc', 2294),\n ('across', 2294),\n ('u', 2285),\n ('quality', 2273),\n ('large', 2260),\n ('analyze', 2249),\n ('technique', 2229),\n ('well', 2226),\n ('time', 2214),\n ('understand', 2191),\n ('drive', 2161),\n ('insight', 2139),\n ('analyst', 2138),\n ('platform', 2138),\n ('within', 2095),\n ('related', 2089),\n ('database', 2074)]"
     },
     "execution_count": 13,
     "metadata": {},
     "output_type": "execute_result"
    }
   ],
   "source": [
    "word_count_job1.most_common(100)"
   ],
   "metadata": {
    "collapsed": false,
    "pycharm": {
     "name": "#%%\n"
    }
   }
  },
  {
   "cell_type": "code",
   "execution_count": 14,
   "outputs": [
    {
     "data": {
      "text/plain": "7"
     },
     "execution_count": 14,
     "metadata": {},
     "output_type": "execute_result"
    }
   ],
   "source": [
    "word_count_job1['rational']"
   ],
   "metadata": {
    "collapsed": false,
    "pycharm": {
     "name": "#%%\n"
    }
   }
  },
  {
   "cell_type": "code",
   "execution_count": 15,
   "outputs": [
    {
     "data": {
      "text/plain": "578"
     },
     "execution_count": 15,
     "metadata": {},
     "output_type": "execute_result"
    }
   ],
   "source": [
    "word_count_job1['modeling']"
   ],
   "metadata": {
    "collapsed": false,
    "pycharm": {
     "name": "#%%\n"
    }
   }
  },
  {
   "cell_type": "code",
   "execution_count": 16,
   "outputs": [
    {
     "data": {
      "text/plain": "2636"
     },
     "execution_count": 16,
     "metadata": {},
     "output_type": "execute_result"
    }
   ],
   "source": [
    "word_count_job1['python']"
   ],
   "metadata": {
    "collapsed": false,
    "pycharm": {
     "name": "#%%\n"
    }
   }
  },
  {
   "cell_type": "code",
   "execution_count": 16,
   "outputs": [],
   "source": [
    "import article_terms\n",
    "\n",
    "# word count from lemmatized list\n",
    "personality_traits_lemma = lemmatize(article_terms.all_personality_traits)\n",
    "p_trait_lemma_count = {}\n",
    "for p_trait in personality_traits_lemma:\n",
    "    p_trait_lemma_count[p_trait] = word_count_job1[p_trait]\n",
    "\n",
    "p_trait_lemma_count"
   ],
   "metadata": {
    "collapsed": false,
    "pycharm": {
     "name": "#%%\n"
    }
   }
  },
  {
   "cell_type": "markdown",
   "source": [
    "# Direct text search of listed traits or skills"
   ],
   "metadata": {
    "collapsed": false,
    "pycharm": {
     "name": "#%% md\n"
    }
   }
  },
  {
   "cell_type": "code",
   "execution_count": 2,
   "outputs": [],
   "source": [
    "import os\n",
    "\n",
    "path_output = lambda file_name: os.path.join('..', 'output', file_name)"
   ],
   "metadata": {
    "collapsed": false,
    "pycharm": {
     "name": "#%%\n"
    }
   }
  },
  {
   "cell_type": "code",
   "execution_count": 18,
   "outputs": [
    {
     "data": {
      "text/plain": "(13939723,\n 'about hopper\\n\\nat hopper, we’re on a mission to make booking travel faster, easier, and more transpar')"
     },
     "execution_count": 18,
     "metadata": {},
     "output_type": "execute_result"
    }
   ],
   "source": [
    "# combine all job descriptions into 1 string\n",
    "all_job_descriptions_1 = \"\"\n",
    "for idx, value in df_datascientist['Job Description'].iteritems():\n",
    "    all_job_descriptions_1 += value\n",
    "\n",
    "all_job_descriptions_1 = all_job_descriptions_1.lower()\n",
    "len(all_job_descriptions_1), all_job_descriptions_1[:100]"
   ],
   "metadata": {
    "collapsed": false,
    "pycharm": {
     "name": "#%%\n"
    }
   }
  },
  {
   "cell_type": "code",
   "execution_count": 19,
   "outputs": [
    {
     "data": {
      "text/plain": "(41434191,\n 'read what people are saying about working here. \\n\\nwe are farmers!\\n\\njoin a team of diverse profession')"
     },
     "execution_count": 19,
     "metadata": {},
     "output_type": "execute_result"
    }
   ],
   "source": [
    "all_job_descriptions_2 = \"\"\n",
    "for idx, value in df_scientist_us_jobs['job_description'].iteritems():\n",
    "    all_job_descriptions_2 += value\n",
    "\n",
    "all_job_descriptions_2 = all_job_descriptions_2.lower()\n",
    "len(all_job_descriptions_2), all_job_descriptions_2[:100]"
   ],
   "metadata": {
    "collapsed": false,
    "pycharm": {
     "name": "#%%\n"
    }
   }
  },
  {
   "cell_type": "code",
   "execution_count": 59,
   "outputs": [],
   "source": [
    "def clean_string_from_characters(text):\n",
    "    return re.sub('(?![ -~]).', '', text)\n",
    "\n",
    "\n",
    "all_job_descriptions_1 = clean_string_from_characters(all_job_descriptions_1)\n",
    "all_job_descriptions_2 = clean_string_from_characters(all_job_descriptions_2)"
   ],
   "metadata": {
    "collapsed": false,
    "pycharm": {
     "name": "#%%\n"
    }
   }
  },
  {
   "cell_type": "code",
   "execution_count": 60,
   "outputs": [],
   "source": [
    "# write to disk\n",
    "\n",
    "def write_to_txt(text: str, file_name: str):\n",
    "    with open(path_output(file_name), 'w') as fp:\n",
    "        fp.write(text)\n",
    "\n",
    "\n",
    "write_to_txt(all_job_descriptions_1, 'jop_descriptions_ds1.txt')\n",
    "write_to_txt(all_job_descriptions_2, 'jop_descriptions_ds2_us.txt')"
   ],
   "metadata": {
    "collapsed": false,
    "pycharm": {
     "name": "#%%\n"
    }
   }
  },
  {
   "cell_type": "markdown",
   "source": [
    "### Run analysis code from here"
   ],
   "metadata": {
    "collapsed": false,
    "pycharm": {
     "name": "#%% md\n"
    }
   }
  },
  {
   "cell_type": "code",
   "execution_count": 1,
   "outputs": [],
   "source": [
    "import os\n",
    "\n",
    "path_output = lambda file_name: os.path.join('..', 'output', file_name)\n",
    "\n",
    "def read_txt(file_name:str) -> str:\n",
    "    with open(path_output(file_name), 'r') as fp:\n",
    "        text = fp.read()\n",
    "    return text\n",
    "\n",
    "all_job_descriptions_1 = read_txt('jop_descriptions_ds1.txt')\n",
    "all_job_descriptions_2 = read_txt('jop_descriptions_ds2_us.txt')"
   ],
   "metadata": {
    "collapsed": false,
    "pycharm": {
     "name": "#%%\n"
    }
   }
  },
  {
   "cell_type": "code",
   "execution_count": 2,
   "outputs": [],
   "source": [
    "from typing import Optional\n",
    "import article_terms\n",
    "import pandas as pd\n",
    "\n",
    "def count_traits_in_text(list_of_traits, output_csv: Optional[str] = None):\n",
    "    traits_count = {}\n",
    "\n",
    "    for trait in list_of_traits:\n",
    "        traits_count[trait] = {'job1': all_job_descriptions_1.count(trait)}\n",
    "        traits_count[trait]['job2'] = all_job_descriptions_2.count(trait)\n",
    "        traits_count[trait]['total'] = traits_count[trait]['job1'] + \\\n",
    "                                         traits_count[trait]['job2']\n",
    "\n",
    "    df_traits_count = pd.DataFrame(traits_count)\n",
    "    df_traits_count = df_traits_count.T\n",
    "    df_traits_count = df_traits_count.sort_values('total', ascending=False)\n",
    "\n",
    "    if output_csv:\n",
    "        df_traits_count.to_csv(path_output(output_csv))\n",
    "\n",
    "    return df_traits_count"
   ],
   "metadata": {
    "collapsed": false,
    "pycharm": {
     "name": "#%%\n"
    }
   }
  },
  {
   "cell_type": "code",
   "execution_count": 3,
   "outputs": [
    {
     "data": {
      "text/plain": "                      job1   job2  total\ntechnical             4519  12492  17011\nanalytical            2539   9067  11606\nrational               787   2708   3495\nmathematical           383   2474   2857\ncreative               615   2146   2761\nlogical                795    955   1750\ncuriosity              191    837   1028\ncreativity             246    768   1014\nstrong communication   188    623    811\ncritical thinking      158    509    667\nintuition               42    108    150\npragmatic               28    117    145\nartisan                  3    113    116\nskeptical                3      7     10\nguardian                 3      2      5\nrisk-averse              1      2      3\nidealist                 0      2      2\nbusiness savy            0      0      0",
      "text/html": "<div>\n<style scoped>\n    .dataframe tbody tr th:only-of-type {\n        vertical-align: middle;\n    }\n\n    .dataframe tbody tr th {\n        vertical-align: top;\n    }\n\n    .dataframe thead th {\n        text-align: right;\n    }\n</style>\n<table border=\"1\" class=\"dataframe\">\n  <thead>\n    <tr style=\"text-align: right;\">\n      <th></th>\n      <th>job1</th>\n      <th>job2</th>\n      <th>total</th>\n    </tr>\n  </thead>\n  <tbody>\n    <tr>\n      <th>technical</th>\n      <td>4519</td>\n      <td>12492</td>\n      <td>17011</td>\n    </tr>\n    <tr>\n      <th>analytical</th>\n      <td>2539</td>\n      <td>9067</td>\n      <td>11606</td>\n    </tr>\n    <tr>\n      <th>rational</th>\n      <td>787</td>\n      <td>2708</td>\n      <td>3495</td>\n    </tr>\n    <tr>\n      <th>mathematical</th>\n      <td>383</td>\n      <td>2474</td>\n      <td>2857</td>\n    </tr>\n    <tr>\n      <th>creative</th>\n      <td>615</td>\n      <td>2146</td>\n      <td>2761</td>\n    </tr>\n    <tr>\n      <th>logical</th>\n      <td>795</td>\n      <td>955</td>\n      <td>1750</td>\n    </tr>\n    <tr>\n      <th>curiosity</th>\n      <td>191</td>\n      <td>837</td>\n      <td>1028</td>\n    </tr>\n    <tr>\n      <th>creativity</th>\n      <td>246</td>\n      <td>768</td>\n      <td>1014</td>\n    </tr>\n    <tr>\n      <th>strong communication</th>\n      <td>188</td>\n      <td>623</td>\n      <td>811</td>\n    </tr>\n    <tr>\n      <th>critical thinking</th>\n      <td>158</td>\n      <td>509</td>\n      <td>667</td>\n    </tr>\n    <tr>\n      <th>intuition</th>\n      <td>42</td>\n      <td>108</td>\n      <td>150</td>\n    </tr>\n    <tr>\n      <th>pragmatic</th>\n      <td>28</td>\n      <td>117</td>\n      <td>145</td>\n    </tr>\n    <tr>\n      <th>artisan</th>\n      <td>3</td>\n      <td>113</td>\n      <td>116</td>\n    </tr>\n    <tr>\n      <th>skeptical</th>\n      <td>3</td>\n      <td>7</td>\n      <td>10</td>\n    </tr>\n    <tr>\n      <th>guardian</th>\n      <td>3</td>\n      <td>2</td>\n      <td>5</td>\n    </tr>\n    <tr>\n      <th>risk-averse</th>\n      <td>1</td>\n      <td>2</td>\n      <td>3</td>\n    </tr>\n    <tr>\n      <th>idealist</th>\n      <td>0</td>\n      <td>2</td>\n      <td>2</td>\n    </tr>\n    <tr>\n      <th>business savy</th>\n      <td>0</td>\n      <td>0</td>\n      <td>0</td>\n    </tr>\n  </tbody>\n</table>\n</div>"
     },
     "execution_count": 3,
     "metadata": {},
     "output_type": "execute_result"
    }
   ],
   "source": [
    "df_personality_traits_count = count_traits_in_text(article_terms.all_personality_traits, 'personality_traits.csv')\n",
    "df_personality_traits_count"
   ],
   "metadata": {
    "collapsed": false,
    "pycharm": {
     "name": "#%%\n"
    }
   }
  },
  {
   "cell_type": "code",
   "execution_count": 4,
   "outputs": [
    {
     "data": {
      "text/plain": "                     job1   job2  total\nmanagement           4143  10062  14205\ncommunication        2443   6616   9059\npresentation skills   185    670    855\nmentoring             195    587    782\nteam player           237    471    708\nrisk management       149    530    679\ncritical thinking     158    509    667\ntime management       157    231    388\ncooperation            27     56     83\nsoftware skills        26     17     43\noperational skills      1      2      3",
      "text/html": "<div>\n<style scoped>\n    .dataframe tbody tr th:only-of-type {\n        vertical-align: middle;\n    }\n\n    .dataframe tbody tr th {\n        vertical-align: top;\n    }\n\n    .dataframe thead th {\n        text-align: right;\n    }\n</style>\n<table border=\"1\" class=\"dataframe\">\n  <thead>\n    <tr style=\"text-align: right;\">\n      <th></th>\n      <th>job1</th>\n      <th>job2</th>\n      <th>total</th>\n    </tr>\n  </thead>\n  <tbody>\n    <tr>\n      <th>management</th>\n      <td>4143</td>\n      <td>10062</td>\n      <td>14205</td>\n    </tr>\n    <tr>\n      <th>communication</th>\n      <td>2443</td>\n      <td>6616</td>\n      <td>9059</td>\n    </tr>\n    <tr>\n      <th>presentation skills</th>\n      <td>185</td>\n      <td>670</td>\n      <td>855</td>\n    </tr>\n    <tr>\n      <th>mentoring</th>\n      <td>195</td>\n      <td>587</td>\n      <td>782</td>\n    </tr>\n    <tr>\n      <th>team player</th>\n      <td>237</td>\n      <td>471</td>\n      <td>708</td>\n    </tr>\n    <tr>\n      <th>risk management</th>\n      <td>149</td>\n      <td>530</td>\n      <td>679</td>\n    </tr>\n    <tr>\n      <th>critical thinking</th>\n      <td>158</td>\n      <td>509</td>\n      <td>667</td>\n    </tr>\n    <tr>\n      <th>time management</th>\n      <td>157</td>\n      <td>231</td>\n      <td>388</td>\n    </tr>\n    <tr>\n      <th>cooperation</th>\n      <td>27</td>\n      <td>56</td>\n      <td>83</td>\n    </tr>\n    <tr>\n      <th>software skills</th>\n      <td>26</td>\n      <td>17</td>\n      <td>43</td>\n    </tr>\n    <tr>\n      <th>operational skills</th>\n      <td>1</td>\n      <td>2</td>\n      <td>3</td>\n    </tr>\n  </tbody>\n</table>\n</div>"
     },
     "execution_count": 4,
     "metadata": {},
     "output_type": "execute_result"
    }
   ],
   "source": [
    "df_seeked_traits = count_traits_in_text(article_terms.all_seeked_traits, 'seeked_traits.csv')\n",
    "df_seeked_traits"
   ],
   "metadata": {
    "collapsed": false,
    "pycharm": {
     "name": "#%%\n"
    }
   }
  },
  {
   "cell_type": "code",
   "execution_count": 5,
   "outputs": [
    {
     "data": {
      "text/plain": "                                         job1  job2  total\ncommunication                            2443  6616   9059\ncommunication skills                     1309  3501   4810\ncollaboration                             655  1692   2347\nproblem-solving                           446  1005   1451\ncuriosity                                 191   837   1028\nteam player                               237   471    708\ncritical thinking                         158   509    667\nverbal and written communication skills   199   432    631\nbusiness acumen                           142   407    549\nstorytelling                               54   168    222\nbusiness knowledge                         28   155    183\nwork ethic                                 67    99    166\nadaptability                               32    80    112\nproduct understanding                       5     3      8",
      "text/html": "<div>\n<style scoped>\n    .dataframe tbody tr th:only-of-type {\n        vertical-align: middle;\n    }\n\n    .dataframe tbody tr th {\n        vertical-align: top;\n    }\n\n    .dataframe thead th {\n        text-align: right;\n    }\n</style>\n<table border=\"1\" class=\"dataframe\">\n  <thead>\n    <tr style=\"text-align: right;\">\n      <th></th>\n      <th>job1</th>\n      <th>job2</th>\n      <th>total</th>\n    </tr>\n  </thead>\n  <tbody>\n    <tr>\n      <th>communication</th>\n      <td>2443</td>\n      <td>6616</td>\n      <td>9059</td>\n    </tr>\n    <tr>\n      <th>communication skills</th>\n      <td>1309</td>\n      <td>3501</td>\n      <td>4810</td>\n    </tr>\n    <tr>\n      <th>collaboration</th>\n      <td>655</td>\n      <td>1692</td>\n      <td>2347</td>\n    </tr>\n    <tr>\n      <th>problem-solving</th>\n      <td>446</td>\n      <td>1005</td>\n      <td>1451</td>\n    </tr>\n    <tr>\n      <th>curiosity</th>\n      <td>191</td>\n      <td>837</td>\n      <td>1028</td>\n    </tr>\n    <tr>\n      <th>team player</th>\n      <td>237</td>\n      <td>471</td>\n      <td>708</td>\n    </tr>\n    <tr>\n      <th>critical thinking</th>\n      <td>158</td>\n      <td>509</td>\n      <td>667</td>\n    </tr>\n    <tr>\n      <th>verbal and written communication skills</th>\n      <td>199</td>\n      <td>432</td>\n      <td>631</td>\n    </tr>\n    <tr>\n      <th>business acumen</th>\n      <td>142</td>\n      <td>407</td>\n      <td>549</td>\n    </tr>\n    <tr>\n      <th>storytelling</th>\n      <td>54</td>\n      <td>168</td>\n      <td>222</td>\n    </tr>\n    <tr>\n      <th>business knowledge</th>\n      <td>28</td>\n      <td>155</td>\n      <td>183</td>\n    </tr>\n    <tr>\n      <th>work ethic</th>\n      <td>67</td>\n      <td>99</td>\n      <td>166</td>\n    </tr>\n    <tr>\n      <th>adaptability</th>\n      <td>32</td>\n      <td>80</td>\n      <td>112</td>\n    </tr>\n    <tr>\n      <th>product understanding</th>\n      <td>5</td>\n      <td>3</td>\n      <td>8</td>\n    </tr>\n  </tbody>\n</table>\n</div>"
     },
     "execution_count": 5,
     "metadata": {},
     "output_type": "execute_result"
    }
   ],
   "source": [
    "df_soft_skills = count_traits_in_text(article_terms.all_soft_skills, 'soft_skills.csv')\n",
    "df_soft_skills"
   ],
   "metadata": {
    "collapsed": false,
    "pycharm": {
     "name": "#%%\n"
    }
   }
  },
  {
   "cell_type": "code",
   "execution_count": 6,
   "outputs": [
    {
     "data": {
      "text/plain": "                     job1   job2  total\nmachine learning     3195  20158  23353\nstatistics           1988  10707  12695\nprogramming          1577   6683   8260\ndata visualization    713   3268   3981\ndeep learning         436   3414   3850\npredictive modeling   268   2301   2569\ncoding                451   1413   1864\ndata wrangling         70    333    403\ncalculus               28    231    259\nlinear algebra         66    191    257\ndata preparation       48    200    248\nmodel deployment       18    113    131\nmodel production        3     10     13",
      "text/html": "<div>\n<style scoped>\n    .dataframe tbody tr th:only-of-type {\n        vertical-align: middle;\n    }\n\n    .dataframe tbody tr th {\n        vertical-align: top;\n    }\n\n    .dataframe thead th {\n        text-align: right;\n    }\n</style>\n<table border=\"1\" class=\"dataframe\">\n  <thead>\n    <tr style=\"text-align: right;\">\n      <th></th>\n      <th>job1</th>\n      <th>job2</th>\n      <th>total</th>\n    </tr>\n  </thead>\n  <tbody>\n    <tr>\n      <th>machine learning</th>\n      <td>3195</td>\n      <td>20158</td>\n      <td>23353</td>\n    </tr>\n    <tr>\n      <th>statistics</th>\n      <td>1988</td>\n      <td>10707</td>\n      <td>12695</td>\n    </tr>\n    <tr>\n      <th>programming</th>\n      <td>1577</td>\n      <td>6683</td>\n      <td>8260</td>\n    </tr>\n    <tr>\n      <th>data visualization</th>\n      <td>713</td>\n      <td>3268</td>\n      <td>3981</td>\n    </tr>\n    <tr>\n      <th>deep learning</th>\n      <td>436</td>\n      <td>3414</td>\n      <td>3850</td>\n    </tr>\n    <tr>\n      <th>predictive modeling</th>\n      <td>268</td>\n      <td>2301</td>\n      <td>2569</td>\n    </tr>\n    <tr>\n      <th>coding</th>\n      <td>451</td>\n      <td>1413</td>\n      <td>1864</td>\n    </tr>\n    <tr>\n      <th>data wrangling</th>\n      <td>70</td>\n      <td>333</td>\n      <td>403</td>\n    </tr>\n    <tr>\n      <th>calculus</th>\n      <td>28</td>\n      <td>231</td>\n      <td>259</td>\n    </tr>\n    <tr>\n      <th>linear algebra</th>\n      <td>66</td>\n      <td>191</td>\n      <td>257</td>\n    </tr>\n    <tr>\n      <th>data preparation</th>\n      <td>48</td>\n      <td>200</td>\n      <td>248</td>\n    </tr>\n    <tr>\n      <th>model deployment</th>\n      <td>18</td>\n      <td>113</td>\n      <td>131</td>\n    </tr>\n    <tr>\n      <th>model production</th>\n      <td>3</td>\n      <td>10</td>\n      <td>13</td>\n    </tr>\n  </tbody>\n</table>\n</div>"
     },
     "execution_count": 6,
     "metadata": {},
     "output_type": "execute_result"
    }
   ],
   "source": [
    "df_hard_skills = count_traits_in_text(article_terms.list_hard_skills_1, 'hard_skills.csv')\n",
    "df_hard_skills"
   ],
   "metadata": {
    "collapsed": false,
    "pycharm": {
     "name": "#%%\n"
    }
   }
  },
  {
   "cell_type": "code",
   "execution_count": 7,
   "outputs": [
    {
     "data": {
      "text/plain": "                                         job1   job2  total\nmachine learning                         3195  20158  23353\ntechnical                                4519  12492  17011\nmanagement                               4143  10062  14205\nstatistics                               1988  10707  12695\nanalytical                               2539   9067  11606\ncommunication                            2443   6616   9059\nprogramming                              1577   6683   8260\ncommunication skills                     1309   3501   4810\ndata visualization                        713   3268   3981\ndeep learning                             436   3414   3850\nrational                                  787   2708   3495\nmathematical                              383   2474   2857\ncreative                                  615   2146   2761\npredictive modeling                       268   2301   2569\ncollaboration                             655   1692   2347\ncoding                                    451   1413   1864\nlogical                                   795    955   1750\nproblem-solving                           446   1005   1451\ncuriosity                                 191    837   1028\ncreativity                                246    768   1014\npresentation skills                       185    670    855\nstrong communication                      188    623    811\nmentoring                                 195    587    782\nteam player                               237    471    708\nrisk management                           149    530    679\ncritical thinking                         158    509    667\nverbal and written communication skills   199    432    631\nbusiness acumen                           142    407    549\ndata wrangling                             70    333    403\ntime management                           157    231    388\ncalculus                                   28    231    259\nlinear algebra                             66    191    257\ndata preparation                           48    200    248\nstorytelling                               54    168    222\nbusiness knowledge                         28    155    183\nwork ethic                                 67     99    166\nintuition                                  42    108    150\npragmatic                                  28    117    145\nmodel deployment                           18    113    131\nartisan                                     3    113    116\nadaptability                               32     80    112\ncooperation                                27     56     83\nsoftware skills                            26     17     43\nmodel production                            3     10     13\nskeptical                                   3      7     10\nproduct understanding                       5      3      8\nguardian                                    3      2      5\noperational skills                          1      2      3\nrisk-averse                                 1      2      3\nidealist                                    0      2      2\nbusiness savy                               0      0      0",
      "text/html": "<div>\n<style scoped>\n    .dataframe tbody tr th:only-of-type {\n        vertical-align: middle;\n    }\n\n    .dataframe tbody tr th {\n        vertical-align: top;\n    }\n\n    .dataframe thead th {\n        text-align: right;\n    }\n</style>\n<table border=\"1\" class=\"dataframe\">\n  <thead>\n    <tr style=\"text-align: right;\">\n      <th></th>\n      <th>job1</th>\n      <th>job2</th>\n      <th>total</th>\n    </tr>\n  </thead>\n  <tbody>\n    <tr>\n      <th>machine learning</th>\n      <td>3195</td>\n      <td>20158</td>\n      <td>23353</td>\n    </tr>\n    <tr>\n      <th>technical</th>\n      <td>4519</td>\n      <td>12492</td>\n      <td>17011</td>\n    </tr>\n    <tr>\n      <th>management</th>\n      <td>4143</td>\n      <td>10062</td>\n      <td>14205</td>\n    </tr>\n    <tr>\n      <th>statistics</th>\n      <td>1988</td>\n      <td>10707</td>\n      <td>12695</td>\n    </tr>\n    <tr>\n      <th>analytical</th>\n      <td>2539</td>\n      <td>9067</td>\n      <td>11606</td>\n    </tr>\n    <tr>\n      <th>communication</th>\n      <td>2443</td>\n      <td>6616</td>\n      <td>9059</td>\n    </tr>\n    <tr>\n      <th>programming</th>\n      <td>1577</td>\n      <td>6683</td>\n      <td>8260</td>\n    </tr>\n    <tr>\n      <th>communication skills</th>\n      <td>1309</td>\n      <td>3501</td>\n      <td>4810</td>\n    </tr>\n    <tr>\n      <th>data visualization</th>\n      <td>713</td>\n      <td>3268</td>\n      <td>3981</td>\n    </tr>\n    <tr>\n      <th>deep learning</th>\n      <td>436</td>\n      <td>3414</td>\n      <td>3850</td>\n    </tr>\n    <tr>\n      <th>rational</th>\n      <td>787</td>\n      <td>2708</td>\n      <td>3495</td>\n    </tr>\n    <tr>\n      <th>mathematical</th>\n      <td>383</td>\n      <td>2474</td>\n      <td>2857</td>\n    </tr>\n    <tr>\n      <th>creative</th>\n      <td>615</td>\n      <td>2146</td>\n      <td>2761</td>\n    </tr>\n    <tr>\n      <th>predictive modeling</th>\n      <td>268</td>\n      <td>2301</td>\n      <td>2569</td>\n    </tr>\n    <tr>\n      <th>collaboration</th>\n      <td>655</td>\n      <td>1692</td>\n      <td>2347</td>\n    </tr>\n    <tr>\n      <th>coding</th>\n      <td>451</td>\n      <td>1413</td>\n      <td>1864</td>\n    </tr>\n    <tr>\n      <th>logical</th>\n      <td>795</td>\n      <td>955</td>\n      <td>1750</td>\n    </tr>\n    <tr>\n      <th>problem-solving</th>\n      <td>446</td>\n      <td>1005</td>\n      <td>1451</td>\n    </tr>\n    <tr>\n      <th>curiosity</th>\n      <td>191</td>\n      <td>837</td>\n      <td>1028</td>\n    </tr>\n    <tr>\n      <th>creativity</th>\n      <td>246</td>\n      <td>768</td>\n      <td>1014</td>\n    </tr>\n    <tr>\n      <th>presentation skills</th>\n      <td>185</td>\n      <td>670</td>\n      <td>855</td>\n    </tr>\n    <tr>\n      <th>strong communication</th>\n      <td>188</td>\n      <td>623</td>\n      <td>811</td>\n    </tr>\n    <tr>\n      <th>mentoring</th>\n      <td>195</td>\n      <td>587</td>\n      <td>782</td>\n    </tr>\n    <tr>\n      <th>team player</th>\n      <td>237</td>\n      <td>471</td>\n      <td>708</td>\n    </tr>\n    <tr>\n      <th>risk management</th>\n      <td>149</td>\n      <td>530</td>\n      <td>679</td>\n    </tr>\n    <tr>\n      <th>critical thinking</th>\n      <td>158</td>\n      <td>509</td>\n      <td>667</td>\n    </tr>\n    <tr>\n      <th>verbal and written communication skills</th>\n      <td>199</td>\n      <td>432</td>\n      <td>631</td>\n    </tr>\n    <tr>\n      <th>business acumen</th>\n      <td>142</td>\n      <td>407</td>\n      <td>549</td>\n    </tr>\n    <tr>\n      <th>data wrangling</th>\n      <td>70</td>\n      <td>333</td>\n      <td>403</td>\n    </tr>\n    <tr>\n      <th>time management</th>\n      <td>157</td>\n      <td>231</td>\n      <td>388</td>\n    </tr>\n    <tr>\n      <th>calculus</th>\n      <td>28</td>\n      <td>231</td>\n      <td>259</td>\n    </tr>\n    <tr>\n      <th>linear algebra</th>\n      <td>66</td>\n      <td>191</td>\n      <td>257</td>\n    </tr>\n    <tr>\n      <th>data preparation</th>\n      <td>48</td>\n      <td>200</td>\n      <td>248</td>\n    </tr>\n    <tr>\n      <th>storytelling</th>\n      <td>54</td>\n      <td>168</td>\n      <td>222</td>\n    </tr>\n    <tr>\n      <th>business knowledge</th>\n      <td>28</td>\n      <td>155</td>\n      <td>183</td>\n    </tr>\n    <tr>\n      <th>work ethic</th>\n      <td>67</td>\n      <td>99</td>\n      <td>166</td>\n    </tr>\n    <tr>\n      <th>intuition</th>\n      <td>42</td>\n      <td>108</td>\n      <td>150</td>\n    </tr>\n    <tr>\n      <th>pragmatic</th>\n      <td>28</td>\n      <td>117</td>\n      <td>145</td>\n    </tr>\n    <tr>\n      <th>model deployment</th>\n      <td>18</td>\n      <td>113</td>\n      <td>131</td>\n    </tr>\n    <tr>\n      <th>artisan</th>\n      <td>3</td>\n      <td>113</td>\n      <td>116</td>\n    </tr>\n    <tr>\n      <th>adaptability</th>\n      <td>32</td>\n      <td>80</td>\n      <td>112</td>\n    </tr>\n    <tr>\n      <th>cooperation</th>\n      <td>27</td>\n      <td>56</td>\n      <td>83</td>\n    </tr>\n    <tr>\n      <th>software skills</th>\n      <td>26</td>\n      <td>17</td>\n      <td>43</td>\n    </tr>\n    <tr>\n      <th>model production</th>\n      <td>3</td>\n      <td>10</td>\n      <td>13</td>\n    </tr>\n    <tr>\n      <th>skeptical</th>\n      <td>3</td>\n      <td>7</td>\n      <td>10</td>\n    </tr>\n    <tr>\n      <th>product understanding</th>\n      <td>5</td>\n      <td>3</td>\n      <td>8</td>\n    </tr>\n    <tr>\n      <th>guardian</th>\n      <td>3</td>\n      <td>2</td>\n      <td>5</td>\n    </tr>\n    <tr>\n      <th>operational skills</th>\n      <td>1</td>\n      <td>2</td>\n      <td>3</td>\n    </tr>\n    <tr>\n      <th>risk-averse</th>\n      <td>1</td>\n      <td>2</td>\n      <td>3</td>\n    </tr>\n    <tr>\n      <th>idealist</th>\n      <td>0</td>\n      <td>2</td>\n      <td>2</td>\n    </tr>\n    <tr>\n      <th>business savy</th>\n      <td>0</td>\n      <td>0</td>\n      <td>0</td>\n    </tr>\n  </tbody>\n</table>\n</div>"
     },
     "execution_count": 7,
     "metadata": {},
     "output_type": "execute_result"
    }
   ],
   "source": [
    "df_all_traits_skills = count_traits_in_text(article_terms.all_traits_skills, 'all_traits_skills.csv')\n",
    "df_all_traits_skills"
   ],
   "metadata": {
    "collapsed": false,
    "pycharm": {
     "name": "#%%\n"
    }
   }
  },
  {
   "cell_type": "code",
   "execution_count": 15,
   "outputs": [],
   "source": [],
   "metadata": {
    "collapsed": false,
    "pycharm": {
     "name": "#%%\n"
    }
   }
  },
  {
   "cell_type": "code",
   "execution_count": null,
   "outputs": [],
   "source": [],
   "metadata": {
    "collapsed": false,
    "pycharm": {
     "name": "#%%\n"
    }
   }
  }
 ],
 "metadata": {
  "kernelspec": {
   "display_name": "Python 3",
   "language": "python",
   "name": "python3"
  },
  "language_info": {
   "codemirror_mode": {
    "name": "ipython",
    "version": 2
   },
   "file_extension": ".py",
   "mimetype": "text/x-python",
   "name": "python",
   "nbconvert_exporter": "python",
   "pygments_lexer": "ipython2",
   "version": "2.7.6"
  }
 },
 "nbformat": 4,
 "nbformat_minor": 0
}